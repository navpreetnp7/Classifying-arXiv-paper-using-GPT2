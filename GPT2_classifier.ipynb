{
 "cells": [
  {
   "cell_type": "code",
   "execution_count": 1,
   "id": "b4a5796b",
   "metadata": {
    "id": "dc4d0661"
   },
   "outputs": [],
   "source": [
    "from transformers import GPT2Tokenizer, GPT2LMHeadModel, GPT2Model, GPT2ForSequenceClassification, Trainer, TrainingArguments, GPT2Config\n",
    "import torch\n",
    "import json\n",
    "import matplotlib.pyplot as plt\n",
    "from sklearn.metrics import classification_report, ConfusionMatrixDisplay\n",
    "from tqdm import tqdm\n",
    "import random"
   ]
  },
  {
   "cell_type": "markdown",
   "id": "a1aa1c5d",
   "metadata": {},
   "source": [
    "## Read the data"
   ]
  },
  {
   "cell_type": "code",
   "execution_count": 2,
   "id": "4066112c",
   "metadata": {
    "id": "e3594d85"
   },
   "outputs": [],
   "source": [
    "def load_jsonl(filename):\n",
    "    f = open(filename)\n",
    "    return [json.loads(line) for line in f.read().splitlines()]"
   ]
  },
  {
   "cell_type": "code",
   "execution_count": 3,
   "id": "e11e9c47",
   "metadata": {
    "id": "6c8c82e1"
   },
   "outputs": [],
   "source": [
    "train_examples = load_jsonl(\"data/train.jsonl\")\n",
    "dev_examples = load_jsonl(\"data/dev.jsonl\")\n",
    "test_examples = load_jsonl(\"data/test_no_labels.jsonl\")"
   ]
  },
  {
   "cell_type": "markdown",
   "id": "fd738a44",
   "metadata": {},
   "source": [
    "### Split the data into positive and negative samples to provide balanced dataset ( 10 samples for each to get max 20 samples)"
   ]
  },
  {
   "cell_type": "code",
   "execution_count": 4,
   "id": "fe028746",
   "metadata": {
    "id": "f9a628c0"
   },
   "outputs": [],
   "source": [
    "def split_neg_pos_examples(examples):\n",
    "    pos_examples, neg_examples = [],[]\n",
    "    for eg in examples:\n",
    "        if eg['label'] == 'True':\n",
    "            pos_examples.append(eg)\n",
    "        else:\n",
    "            neg_examples.append(eg)\n",
    "    return pos_examples, neg_examples"
   ]
  },
  {
   "cell_type": "code",
   "execution_count": 5,
   "id": "8ba860d1",
   "metadata": {
    "id": "0276f1e6"
   },
   "outputs": [],
   "source": [
    "pos_examples, neg_examples = split_neg_pos_examples(train_examples)\n",
    "pos_examples = pos_examples[:10]\n",
    "neg_examples = neg_examples[:10]\n",
    "train_examples = pos_examples + neg_examples"
   ]
  },
  {
   "cell_type": "markdown",
   "id": "b4788fce",
   "metadata": {},
   "source": [
    "### Convert data into a form to be input to pytorch Dataset class"
   ]
  },
  {
   "cell_type": "code",
   "execution_count": 6,
   "id": "31e99c64",
   "metadata": {
    "id": "f5fc4521"
   },
   "outputs": [],
   "source": [
    "def get_text_label(examples):\n",
    "    text = []\n",
    "    labels = []\n",
    "    for eg in examples:\n",
    "        text.append(eg['text'])\n",
    "        labels.append(0 if eg['label']=='False' else 1)\n",
    "    return text, labels"
   ]
  },
  {
   "cell_type": "code",
   "execution_count": 7,
   "id": "627dea39",
   "metadata": {
    "id": "50f6d069"
   },
   "outputs": [],
   "source": [
    "train_texts, train_labels = get_text_label(train_examples)\n",
    "dev_texts, dev_labels = get_text_label(dev_examples)"
   ]
  },
  {
   "cell_type": "code",
   "execution_count": 8,
   "id": "da978624",
   "metadata": {
    "id": "78aea836"
   },
   "outputs": [],
   "source": [
    "test_text = []\n",
    "for eg in test_examples:\n",
    "    test_text.append(eg['text'])"
   ]
  },
  {
   "cell_type": "markdown",
   "id": "76ae0fb3",
   "metadata": {},
   "source": [
    "### Setup the Transformer and Freeze all the layers except the classification layer"
   ]
  },
  {
   "cell_type": "code",
   "execution_count": 9,
   "id": "7e965092",
   "metadata": {
    "colab": {
     "base_uri": "https://localhost:8080/"
    },
    "id": "0EY2MkrLLjOa",
    "outputId": "caf63fe5-8e43-4cc8-ccc1-0809bee75e0a"
   },
   "outputs": [
    {
     "name": "stderr",
     "output_type": "stream",
     "text": [
      "Some weights of GPT2ForSequenceClassification were not initialized from the model checkpoint at gpt2 and are newly initialized: ['score.weight']\n",
      "You should probably TRAIN this model on a down-stream task to be able to use it for predictions and inference.\n"
     ]
    }
   ],
   "source": [
    "configuration = GPT2Config()\n",
    "GPT2_tokenizer = GPT2Tokenizer.from_pretrained(\"gpt2\")\n",
    "GPT2_tokenizer.pad_token = GPT2_tokenizer.eos_token\n",
    "\n",
    "model = GPT2ForSequenceClassification.from_pretrained(\"gpt2\", num_labels=2)\n",
    "model.config.pad_token_id = model.config.eos_token_id\n",
    "\n",
    "for param in model.transformer.parameters():\n",
    "    param.requires_grad = False"
   ]
  },
  {
   "cell_type": "markdown",
   "id": "5d6d5c40",
   "metadata": {},
   "source": [
    "### Generate tokens for all the examples to be input to the model"
   ]
  },
  {
   "cell_type": "code",
   "execution_count": 10,
   "id": "0828301c",
   "metadata": {
    "id": "bcefe6f1"
   },
   "outputs": [],
   "source": [
    "train_encodings = GPT2_tokenizer(train_texts, truncation=True, padding=True)\n",
    "dev_encodings = GPT2_tokenizer(dev_texts, truncation=True, padding=True)"
   ]
  },
  {
   "cell_type": "markdown",
   "id": "9a527b5f",
   "metadata": {},
   "source": [
    "### Create the dataset class"
   ]
  },
  {
   "cell_type": "code",
   "execution_count": 11,
   "id": "41176f76",
   "metadata": {
    "id": "94514963"
   },
   "outputs": [],
   "source": [
    "class ArXivpaperDataset(torch.utils.data.Dataset):\n",
    "    def __init__(self, encodings, labels):\n",
    "        self.encodings = encodings\n",
    "        self.labels = labels\n",
    "\n",
    "    def __getitem__(self, idx):\n",
    "        item = {key: torch.tensor(val[idx]) for key, val in self.encodings.items()}\n",
    "        item['labels'] = torch.tensor(self.labels[idx])\n",
    "        return item\n",
    "\n",
    "    def __len__(self):\n",
    "        return len(self.labels)"
   ]
  },
  {
   "cell_type": "code",
   "execution_count": 12,
   "id": "64acdbdd",
   "metadata": {
    "id": "5caf5726"
   },
   "outputs": [],
   "source": [
    "train_dataset = ArXivpaperDataset(train_encodings, train_labels)\n",
    "dev_dataset = ArXivpaperDataset(dev_encodings, dev_labels)"
   ]
  },
  {
   "cell_type": "markdown",
   "id": "c0e1c5ea",
   "metadata": {},
   "source": [
    "### Define the training parameters "
   ]
  },
  {
   "cell_type": "markdown",
   "id": "3ad72be0",
   "metadata": {},
   "source": [
    "The below parameters are set to default value as suggested in the huggingface library"
   ]
  },
  {
   "cell_type": "code",
   "execution_count": 17,
   "id": "7544d77d",
   "metadata": {
    "colab": {
     "base_uri": "https://localhost:8080/"
    },
    "id": "feb1cbee",
    "outputId": "5aff563d-7efd-4cb2-d643-181352edb98b"
   },
   "outputs": [
    {
     "name": "stderr",
     "output_type": "stream",
     "text": [
      "PyTorch: setting up devices\n",
      "The default value for the training argument `--report_to` will change in v5 (from all installed integrations to none). In v5, you will need to use `--report_to all` to get the same behavior as now. You should start updating your code and make this info disappear :-).\n"
     ]
    }
   ],
   "source": [
    "training_args = TrainingArguments(\n",
    "    output_dir='./results',          # output directory\n",
    "    num_train_epochs=1000,              # total number of training epochs\n",
    "    per_device_train_batch_size=64,  # batch size per device during training\n",
    "    per_device_eval_batch_size=64,   # batch size for evaluation\n",
    "    warmup_steps=500,                # number of warmup steps for learning rate scheduler\n",
    "    weight_decay=0.01,               # strength of weight decay\n",
    "    logging_dir='./logs',            # directory for storing logs\n",
    "    logging_steps=10,\n",
    ")"
   ]
  },
  {
   "cell_type": "markdown",
   "id": "7ec7dd29",
   "metadata": {},
   "source": [
    "### Using the huggingface defined trainer class to train the transformer "
   ]
  },
  {
   "cell_type": "code",
   "execution_count": 19,
   "id": "2d634298",
   "metadata": {
    "id": "93e8f178"
   },
   "outputs": [],
   "source": [
    "trainer = Trainer(\n",
    "    model=model,                         # the instantiated 🤗 Transformers model to be trained\n",
    "    args=training_args,                  # training arguments, defined above\n",
    "    train_dataset=train_dataset,         # training dataset\n",
    "    eval_dataset=dev_dataset             # evaluation dataset\n",
    ")"
   ]
  },
  {
   "cell_type": "markdown",
   "id": "6031ac10",
   "metadata": {},
   "source": [
    "### Train for 1000 epochs"
   ]
  },
  {
   "cell_type": "code",
   "execution_count": 20,
   "id": "dc7c193e",
   "metadata": {
    "colab": {
     "base_uri": "https://localhost:8080/",
     "height": 1000
    },
    "id": "6d5f30ed",
    "outputId": "b32de759-3534-48ef-92c1-1b309f12199c"
   },
   "outputs": [
    {
     "name": "stderr",
     "output_type": "stream",
     "text": [
      "/usr/local/lib/python3.7/dist-packages/transformers/optimization.py:309: FutureWarning: This implementation of AdamW is deprecated and will be removed in a future version. Use the PyTorch implementation torch.optim.AdamW instead, or set `no_deprecation_warning=True` to disable this warning\n",
      "  FutureWarning,\n",
      "***** Running training *****\n",
      "  Num examples = 20\n",
      "  Num Epochs = 1000\n",
      "  Instantaneous batch size per device = 64\n",
      "  Total train batch size (w. parallel, distributed & accumulation) = 64\n",
      "  Gradient Accumulation steps = 1\n",
      "  Total optimization steps = 1000\n"
     ]
    },
    {
     "data": {
      "text/html": [
       "\n",
       "    <div>\n",
       "      \n",
       "      <progress value='1000' max='1000' style='width:300px; height:20px; vertical-align: middle;'></progress>\n",
       "      [1000/1000 08:18, Epoch 1000/1000]\n",
       "    </div>\n",
       "    <table border=\"1\" class=\"dataframe\">\n",
       "  <thead>\n",
       " <tr style=\"text-align: left;\">\n",
       "      <th>Step</th>\n",
       "      <th>Training Loss</th>\n",
       "    </tr>\n",
       "  </thead>\n",
       "  <tbody>\n",
       "    <tr>\n",
       "      <td>10</td>\n",
       "      <td>5.102900</td>\n",
       "    </tr>\n",
       "    <tr>\n",
       "      <td>20</td>\n",
       "      <td>4.990700</td>\n",
       "    </tr>\n",
       "    <tr>\n",
       "      <td>30</td>\n",
       "      <td>5.109000</td>\n",
       "    </tr>\n",
       "    <tr>\n",
       "      <td>40</td>\n",
       "      <td>5.014800</td>\n",
       "    </tr>\n",
       "    <tr>\n",
       "      <td>50</td>\n",
       "      <td>5.046500</td>\n",
       "    </tr>\n",
       "    <tr>\n",
       "      <td>60</td>\n",
       "      <td>5.144200</td>\n",
       "    </tr>\n",
       "    <tr>\n",
       "      <td>70</td>\n",
       "      <td>4.880900</td>\n",
       "    </tr>\n",
       "    <tr>\n",
       "      <td>80</td>\n",
       "      <td>4.798200</td>\n",
       "    </tr>\n",
       "    <tr>\n",
       "      <td>90</td>\n",
       "      <td>4.915100</td>\n",
       "    </tr>\n",
       "    <tr>\n",
       "      <td>100</td>\n",
       "      <td>4.760700</td>\n",
       "    </tr>\n",
       "    <tr>\n",
       "      <td>110</td>\n",
       "      <td>4.854800</td>\n",
       "    </tr>\n",
       "    <tr>\n",
       "      <td>120</td>\n",
       "      <td>4.709600</td>\n",
       "    </tr>\n",
       "    <tr>\n",
       "      <td>130</td>\n",
       "      <td>4.621100</td>\n",
       "    </tr>\n",
       "    <tr>\n",
       "      <td>140</td>\n",
       "      <td>4.467300</td>\n",
       "    </tr>\n",
       "    <tr>\n",
       "      <td>150</td>\n",
       "      <td>4.422600</td>\n",
       "    </tr>\n",
       "    <tr>\n",
       "      <td>160</td>\n",
       "      <td>4.194400</td>\n",
       "    </tr>\n",
       "    <tr>\n",
       "      <td>170</td>\n",
       "      <td>4.210800</td>\n",
       "    </tr>\n",
       "    <tr>\n",
       "      <td>180</td>\n",
       "      <td>4.000900</td>\n",
       "    </tr>\n",
       "    <tr>\n",
       "      <td>190</td>\n",
       "      <td>3.853300</td>\n",
       "    </tr>\n",
       "    <tr>\n",
       "      <td>200</td>\n",
       "      <td>3.829300</td>\n",
       "    </tr>\n",
       "    <tr>\n",
       "      <td>210</td>\n",
       "      <td>3.655000</td>\n",
       "    </tr>\n",
       "    <tr>\n",
       "      <td>220</td>\n",
       "      <td>3.606500</td>\n",
       "    </tr>\n",
       "    <tr>\n",
       "      <td>230</td>\n",
       "      <td>3.395600</td>\n",
       "    </tr>\n",
       "    <tr>\n",
       "      <td>240</td>\n",
       "      <td>3.246700</td>\n",
       "    </tr>\n",
       "    <tr>\n",
       "      <td>250</td>\n",
       "      <td>3.069800</td>\n",
       "    </tr>\n",
       "    <tr>\n",
       "      <td>260</td>\n",
       "      <td>2.878800</td>\n",
       "    </tr>\n",
       "    <tr>\n",
       "      <td>270</td>\n",
       "      <td>2.709400</td>\n",
       "    </tr>\n",
       "    <tr>\n",
       "      <td>280</td>\n",
       "      <td>2.585100</td>\n",
       "    </tr>\n",
       "    <tr>\n",
       "      <td>290</td>\n",
       "      <td>2.320300</td>\n",
       "    </tr>\n",
       "    <tr>\n",
       "      <td>300</td>\n",
       "      <td>2.144800</td>\n",
       "    </tr>\n",
       "    <tr>\n",
       "      <td>310</td>\n",
       "      <td>1.946200</td>\n",
       "    </tr>\n",
       "    <tr>\n",
       "      <td>320</td>\n",
       "      <td>1.673400</td>\n",
       "    </tr>\n",
       "    <tr>\n",
       "      <td>330</td>\n",
       "      <td>1.509400</td>\n",
       "    </tr>\n",
       "    <tr>\n",
       "      <td>340</td>\n",
       "      <td>1.364700</td>\n",
       "    </tr>\n",
       "    <tr>\n",
       "      <td>350</td>\n",
       "      <td>1.109100</td>\n",
       "    </tr>\n",
       "    <tr>\n",
       "      <td>360</td>\n",
       "      <td>1.023500</td>\n",
       "    </tr>\n",
       "    <tr>\n",
       "      <td>370</td>\n",
       "      <td>0.863200</td>\n",
       "    </tr>\n",
       "    <tr>\n",
       "      <td>380</td>\n",
       "      <td>0.699700</td>\n",
       "    </tr>\n",
       "    <tr>\n",
       "      <td>390</td>\n",
       "      <td>0.666700</td>\n",
       "    </tr>\n",
       "    <tr>\n",
       "      <td>400</td>\n",
       "      <td>0.570600</td>\n",
       "    </tr>\n",
       "    <tr>\n",
       "      <td>410</td>\n",
       "      <td>0.595000</td>\n",
       "    </tr>\n",
       "    <tr>\n",
       "      <td>420</td>\n",
       "      <td>0.512600</td>\n",
       "    </tr>\n",
       "    <tr>\n",
       "      <td>430</td>\n",
       "      <td>0.423000</td>\n",
       "    </tr>\n",
       "    <tr>\n",
       "      <td>440</td>\n",
       "      <td>0.467500</td>\n",
       "    </tr>\n",
       "    <tr>\n",
       "      <td>450</td>\n",
       "      <td>0.397000</td>\n",
       "    </tr>\n",
       "    <tr>\n",
       "      <td>460</td>\n",
       "      <td>0.402200</td>\n",
       "    </tr>\n",
       "    <tr>\n",
       "      <td>470</td>\n",
       "      <td>0.395900</td>\n",
       "    </tr>\n",
       "    <tr>\n",
       "      <td>480</td>\n",
       "      <td>0.375100</td>\n",
       "    </tr>\n",
       "    <tr>\n",
       "      <td>490</td>\n",
       "      <td>0.340500</td>\n",
       "    </tr>\n",
       "    <tr>\n",
       "      <td>500</td>\n",
       "      <td>0.347100</td>\n",
       "    </tr>\n",
       "    <tr>\n",
       "      <td>510</td>\n",
       "      <td>0.331400</td>\n",
       "    </tr>\n",
       "    <tr>\n",
       "      <td>520</td>\n",
       "      <td>0.312000</td>\n",
       "    </tr>\n",
       "    <tr>\n",
       "      <td>530</td>\n",
       "      <td>0.322200</td>\n",
       "    </tr>\n",
       "    <tr>\n",
       "      <td>540</td>\n",
       "      <td>0.295600</td>\n",
       "    </tr>\n",
       "    <tr>\n",
       "      <td>550</td>\n",
       "      <td>0.280300</td>\n",
       "    </tr>\n",
       "    <tr>\n",
       "      <td>560</td>\n",
       "      <td>0.261200</td>\n",
       "    </tr>\n",
       "    <tr>\n",
       "      <td>570</td>\n",
       "      <td>0.243400</td>\n",
       "    </tr>\n",
       "    <tr>\n",
       "      <td>580</td>\n",
       "      <td>0.241200</td>\n",
       "    </tr>\n",
       "    <tr>\n",
       "      <td>590</td>\n",
       "      <td>0.241800</td>\n",
       "    </tr>\n",
       "    <tr>\n",
       "      <td>600</td>\n",
       "      <td>0.218400</td>\n",
       "    </tr>\n",
       "    <tr>\n",
       "      <td>610</td>\n",
       "      <td>0.213100</td>\n",
       "    </tr>\n",
       "    <tr>\n",
       "      <td>620</td>\n",
       "      <td>0.210400</td>\n",
       "    </tr>\n",
       "    <tr>\n",
       "      <td>630</td>\n",
       "      <td>0.223200</td>\n",
       "    </tr>\n",
       "    <tr>\n",
       "      <td>640</td>\n",
       "      <td>0.202600</td>\n",
       "    </tr>\n",
       "    <tr>\n",
       "      <td>650</td>\n",
       "      <td>0.185000</td>\n",
       "    </tr>\n",
       "    <tr>\n",
       "      <td>660</td>\n",
       "      <td>0.191900</td>\n",
       "    </tr>\n",
       "    <tr>\n",
       "      <td>670</td>\n",
       "      <td>0.198500</td>\n",
       "    </tr>\n",
       "    <tr>\n",
       "      <td>680</td>\n",
       "      <td>0.174200</td>\n",
       "    </tr>\n",
       "    <tr>\n",
       "      <td>690</td>\n",
       "      <td>0.174500</td>\n",
       "    </tr>\n",
       "    <tr>\n",
       "      <td>700</td>\n",
       "      <td>0.163800</td>\n",
       "    </tr>\n",
       "    <tr>\n",
       "      <td>710</td>\n",
       "      <td>0.159200</td>\n",
       "    </tr>\n",
       "    <tr>\n",
       "      <td>720</td>\n",
       "      <td>0.161000</td>\n",
       "    </tr>\n",
       "    <tr>\n",
       "      <td>730</td>\n",
       "      <td>0.169500</td>\n",
       "    </tr>\n",
       "    <tr>\n",
       "      <td>740</td>\n",
       "      <td>0.152000</td>\n",
       "    </tr>\n",
       "    <tr>\n",
       "      <td>750</td>\n",
       "      <td>0.151100</td>\n",
       "    </tr>\n",
       "    <tr>\n",
       "      <td>760</td>\n",
       "      <td>0.156500</td>\n",
       "    </tr>\n",
       "    <tr>\n",
       "      <td>770</td>\n",
       "      <td>0.144100</td>\n",
       "    </tr>\n",
       "    <tr>\n",
       "      <td>780</td>\n",
       "      <td>0.169200</td>\n",
       "    </tr>\n",
       "    <tr>\n",
       "      <td>790</td>\n",
       "      <td>0.141800</td>\n",
       "    </tr>\n",
       "    <tr>\n",
       "      <td>800</td>\n",
       "      <td>0.149200</td>\n",
       "    </tr>\n",
       "    <tr>\n",
       "      <td>810</td>\n",
       "      <td>0.134700</td>\n",
       "    </tr>\n",
       "    <tr>\n",
       "      <td>820</td>\n",
       "      <td>0.136300</td>\n",
       "    </tr>\n",
       "    <tr>\n",
       "      <td>830</td>\n",
       "      <td>0.145000</td>\n",
       "    </tr>\n",
       "    <tr>\n",
       "      <td>840</td>\n",
       "      <td>0.137300</td>\n",
       "    </tr>\n",
       "    <tr>\n",
       "      <td>850</td>\n",
       "      <td>0.135700</td>\n",
       "    </tr>\n",
       "    <tr>\n",
       "      <td>860</td>\n",
       "      <td>0.139500</td>\n",
       "    </tr>\n",
       "    <tr>\n",
       "      <td>870</td>\n",
       "      <td>0.138600</td>\n",
       "    </tr>\n",
       "    <tr>\n",
       "      <td>880</td>\n",
       "      <td>0.131500</td>\n",
       "    </tr>\n",
       "    <tr>\n",
       "      <td>890</td>\n",
       "      <td>0.139200</td>\n",
       "    </tr>\n",
       "    <tr>\n",
       "      <td>900</td>\n",
       "      <td>0.129600</td>\n",
       "    </tr>\n",
       "    <tr>\n",
       "      <td>910</td>\n",
       "      <td>0.136200</td>\n",
       "    </tr>\n",
       "    <tr>\n",
       "      <td>920</td>\n",
       "      <td>0.128500</td>\n",
       "    </tr>\n",
       "    <tr>\n",
       "      <td>930</td>\n",
       "      <td>0.129600</td>\n",
       "    </tr>\n",
       "    <tr>\n",
       "      <td>940</td>\n",
       "      <td>0.129800</td>\n",
       "    </tr>\n",
       "    <tr>\n",
       "      <td>950</td>\n",
       "      <td>0.148400</td>\n",
       "    </tr>\n",
       "    <tr>\n",
       "      <td>960</td>\n",
       "      <td>0.126200</td>\n",
       "    </tr>\n",
       "    <tr>\n",
       "      <td>970</td>\n",
       "      <td>0.139600</td>\n",
       "    </tr>\n",
       "    <tr>\n",
       "      <td>980</td>\n",
       "      <td>0.131500</td>\n",
       "    </tr>\n",
       "    <tr>\n",
       "      <td>990</td>\n",
       "      <td>0.126800</td>\n",
       "    </tr>\n",
       "    <tr>\n",
       "      <td>1000</td>\n",
       "      <td>0.126800</td>\n",
       "    </tr>\n",
       "  </tbody>\n",
       "</table><p>"
      ],
      "text/plain": [
       "<IPython.core.display.HTML object>"
      ]
     },
     "metadata": {},
     "output_type": "display_data"
    },
    {
     "name": "stderr",
     "output_type": "stream",
     "text": [
      "Saving model checkpoint to ./results/checkpoint-500\n",
      "Configuration saved in ./results/checkpoint-500/config.json\n",
      "Model weights saved in ./results/checkpoint-500/pytorch_model.bin\n",
      "Saving model checkpoint to ./results/checkpoint-1000\n",
      "Configuration saved in ./results/checkpoint-1000/config.json\n",
      "Model weights saved in ./results/checkpoint-1000/pytorch_model.bin\n",
      "\n",
      "\n",
      "Training completed. Do not forget to share your model on huggingface.co/models =)\n",
      "\n",
      "\n"
     ]
    },
    {
     "data": {
      "text/plain": [
       "TrainOutput(global_step=1000, training_loss=1.4715102481842042, metrics={'train_runtime': 499.4784, 'train_samples_per_second': 40.042, 'train_steps_per_second': 2.002, 'total_flos': 3337657712640000.0, 'train_loss': 1.4715102481842042, 'epoch': 1000.0})"
      ]
     },
     "execution_count": 20,
     "metadata": {},
     "output_type": "execute_result"
    }
   ],
   "source": [
    "trainer.train()"
   ]
  },
  {
   "cell_type": "markdown",
   "id": "d8908ef0",
   "metadata": {},
   "source": [
    "### Generic functions to visualise the output "
   ]
  },
  {
   "cell_type": "code",
   "execution_count": 35,
   "id": "7af1e9f4",
   "metadata": {
    "id": "DnSOQHxOO90w"
   },
   "outputs": [],
   "source": [
    "def print_metrics(outputs, examples):\n",
    "    pred = torch.Tensor([0 if out=='LABEL_0' else 1 for out in outputs])\n",
    "    label = torch.Tensor([0 if out['label']=='False' else 1 for out in examples])\n",
    "    accuracy = (label==pred).sum() / len(label)\n",
    "    ConfusionMatrixDisplay.from_predictions(label, pred, display_labels=['Not AI','AI'])\n",
    "    plt.show()\n",
    "    report = classification_report(label, pred, target_names=['Not AI','AI'])\n",
    "    return accuracy, report"
   ]
  },
  {
   "cell_type": "code",
   "execution_count": 36,
   "id": "d4c7affa",
   "metadata": {
    "id": "ah7M0AYZGylW"
   },
   "outputs": [],
   "source": [
    "def classify(examples):\n",
    "    pred = []\n",
    "    for eg in examples:\n",
    "        txt = eg['text']\n",
    "        inputs = GPT2_tokenizer(txt, return_tensors=\"pt\")\n",
    "        inputs = inputs.to(\"cuda\")\n",
    "        with torch.no_grad():\n",
    "            logits = model(**inputs).logits\n",
    "\n",
    "        predicted_class_id = logits.argmax().item()\n",
    "        pred.append(model.config.id2label[predicted_class_id])\n",
    "    accuracy, report = print_metrics(pred,examples)\n",
    "    print(\"Accuracy = {}\".format(str(accuracy)))\n",
    "    print(report)"
   ]
  },
  {
   "cell_type": "code",
   "execution_count": 37,
   "id": "d54a4767",
   "metadata": {
    "id": "QOOrUHnNPq-b"
   },
   "outputs": [],
   "source": [
    "train_examples = load_jsonl(\"data/train.jsonl\")"
   ]
  },
  {
   "cell_type": "code",
   "execution_count": 38,
   "id": "f7ea2cfc",
   "metadata": {
    "colab": {
     "base_uri": "https://localhost:8080/",
     "height": 453
    },
    "id": "aqit89MzPpIK",
    "outputId": "46c83f2f-c2ed-4466-d219-a9fe18ce5f1f"
   },
   "outputs": [
    {
     "data": {
      "image/png": "[encoded data removed]",
      "text/plain": [
       "<Figure size 432x288 with 2 Axes>"
      ]
     },
     "metadata": {
      "needs_background": "light"
     },
     "output_type": "display_data"
    },
    {
     "name": "stdout",
     "output_type": "stream",
     "text": [
      "Accuracy = tensor(0.8220)\n",
      "              precision    recall  f1-score   support\n",
      "\n",
      "      Not AI       0.99      0.81      0.89       457\n",
      "          AI       0.32      0.95      0.48        43\n",
      "\n",
      "    accuracy                           0.82       500\n",
      "   macro avg       0.66      0.88      0.69       500\n",
      "weighted avg       0.94      0.82      0.86       500\n",
      "\n"
     ]
    }
   ],
   "source": [
    "classify(train_examples)"
   ]
  },
  {
   "cell_type": "code",
   "execution_count": 39,
   "id": "7dba638b",
   "metadata": {
    "colab": {
     "base_uri": "https://localhost:8080/",
     "height": 457
    },
    "id": "Hs89XXiXPukE",
    "outputId": "eb6d4dd1-f16f-4b2c-97f0-2d7df3f6c02b"
   },
   "outputs": [
    {
     "data": {
      "image/png": "[encoded data removed]",
      "text/plain": [
       "<Figure size 432x288 with 2 Axes>"
      ]
     },
     "metadata": {
      "needs_background": "light"
     },
     "output_type": "display_data"
    },
    {
     "name": "stdout",
     "output_type": "stream",
     "text": [
      "Accuracy = tensor(0.8000)\n",
      "              precision    recall  f1-score   support\n",
      "\n",
      "      Not AI       0.98      0.79      0.88       445\n",
      "          AI       0.34      0.89      0.49        55\n",
      "\n",
      "    accuracy                           0.80       500\n",
      "   macro avg       0.66      0.84      0.69       500\n",
      "weighted avg       0.91      0.80      0.83       500\n",
      "\n"
     ]
    }
   ],
   "source": [
    "classify(dev_examples)"
   ]
  },
  {
   "cell_type": "markdown",
   "id": "fd6bdf68",
   "metadata": {},
   "source": [
    "#### Best results so far. Better than the prompt classification. Therefore, this model is chosen for classification of the test dataset"
   ]
  },
  {
   "cell_type": "markdown",
   "id": "b3fda620",
   "metadata": {},
   "source": [
    "### Generate prediction for test dataset and create a new jsonl file with the predictions"
   ]
  },
  {
   "cell_type": "code",
   "execution_count": 56,
   "id": "397bc7db",
   "metadata": {
    "id": "pNCPVmrySuM3"
   },
   "outputs": [],
   "source": [
    "test_json = []\n",
    "for eg in test_examples:\n",
    "    txt = eg['text']\n",
    "    inputs = GPT2_tokenizer(txt, return_tensors=\"pt\")\n",
    "    inputs = inputs.to(\"cuda\")\n",
    "    with torch.no_grad():\n",
    "        logits = model(**inputs).logits\n",
    "\n",
    "    predicted_class_id = logits.argmax().item()\n",
    "    if model.config.id2label[predicted_class_id] == 'LABEL_0':\n",
    "        pred = 'False'\n",
    "    else:\n",
    "        pred = 'True'\n",
    "    test_json.append({'label':pred, 'text':txt, 'meta':eg['meta']})"
   ]
  },
  {
   "cell_type": "code",
   "execution_count": 57,
   "id": "ba0c9733",
   "metadata": {
    "id": "9bFSgRp-T0bA"
   },
   "outputs": [],
   "source": [
    "with open(\"test_prediction.jsonl\", 'w') as f:\n",
    "    for item in test_json:\n",
    "        f.write(json.dumps(item) + \"\\n\")"
   ]
  },
  {
   "cell_type": "markdown",
   "id": "61d59427",
   "metadata": {},
   "source": [
    "### References\n",
    "#### https://huggingface.co/docs/transformers/training\n",
    "#### https://huggingface.co/docs/transformers/model_doc/gpt2"
   ]
  },
  {
   "cell_type": "code",
   "execution_count": null,
   "id": "fbe1d41a",
   "metadata": {},
   "outputs": [],
   "source": []
  }
 ],
 "metadata": {
  "accelerator": "GPU",
  "colab": {
   "collapsed_sections": [],
   "name": "Untitled.ipynb",
   "provenance": []
  },
  "kernelspec": {
   "display_name": "Python 3",
   "language": "python",
   "name": "python3"
  },
  "language_info": {
   "codemirror_mode": {
    "name": "ipython",
    "version": 3
   },
   "file_extension": ".py",
   "mimetype": "text/x-python",
   "name": "python",
   "nbconvert_exporter": "python",
   "pygments_lexer": "ipython3",
   "version": "3.8.7"
  }
 },
 "nbformat": 4,
 "nbformat_minor": 5
}
