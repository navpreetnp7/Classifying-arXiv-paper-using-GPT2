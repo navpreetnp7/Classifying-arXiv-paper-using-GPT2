{
 "cells": [
  {
   "cell_type": "code",
   "execution_count": 1,
   "id": "04847427",
   "metadata": {},
   "outputs": [],
   "source": [
    "from transformers import GPT2Tokenizer, GPT2LMHeadModel, GPT2Model, GPT2ForSequenceClassification, Trainer, TrainingArguments\n",
    "import torch\n",
    "import json\n",
    "import matplotlib.pyplot as plt\n",
    "from sklearn.metrics import classification_report, ConfusionMatrixDisplay\n",
    "from tqdm import tqdm\n",
    "import random"
   ]
  },
  {
   "cell_type": "code",
   "execution_count": 2,
   "id": "3314506c",
   "metadata": {},
   "outputs": [],
   "source": [
    "import warnings\n",
    "warnings.filterwarnings('ignore')"
   ]
  },
  {
   "cell_type": "markdown",
   "id": "066464e4",
   "metadata": {},
   "source": [
    "# Setup the Transformer"
   ]
  },
  {
   "cell_type": "code",
   "execution_count": 3,
   "id": "0973c318",
   "metadata": {},
   "outputs": [
    {
     "data": {
      "text/plain": [
       "GPT2LMHeadModel(\n",
       "  (transformer): GPT2Model(\n",
       "    (wte): Embedding(50257, 768)\n",
       "    (wpe): Embedding(1024, 768)\n",
       "    (drop): Dropout(p=0.1, inplace=False)\n",
       "    (h): ModuleList(\n",
       "      (0): Block(\n",
       "        (ln_1): LayerNorm((768,), eps=1e-05, elementwise_affine=True)\n",
       "        (attn): Attention(\n",
       "          (c_attn): Conv1D()\n",
       "          (c_proj): Conv1D()\n",
       "          (attn_dropout): Dropout(p=0.1, inplace=False)\n",
       "          (resid_dropout): Dropout(p=0.1, inplace=False)\n",
       "        )\n",
       "        (ln_2): LayerNorm((768,), eps=1e-05, elementwise_affine=True)\n",
       "        (mlp): MLP(\n",
       "          (c_fc): Conv1D()\n",
       "          (c_proj): Conv1D()\n",
       "          (dropout): Dropout(p=0.1, inplace=False)\n",
       "        )\n",
       "      )\n",
       "      (1): Block(\n",
       "        (ln_1): LayerNorm((768,), eps=1e-05, elementwise_affine=True)\n",
       "        (attn): Attention(\n",
       "          (c_attn): Conv1D()\n",
       "          (c_proj): Conv1D()\n",
       "          (attn_dropout): Dropout(p=0.1, inplace=False)\n",
       "          (resid_dropout): Dropout(p=0.1, inplace=False)\n",
       "        )\n",
       "        (ln_2): LayerNorm((768,), eps=1e-05, elementwise_affine=True)\n",
       "        (mlp): MLP(\n",
       "          (c_fc): Conv1D()\n",
       "          (c_proj): Conv1D()\n",
       "          (dropout): Dropout(p=0.1, inplace=False)\n",
       "        )\n",
       "      )\n",
       "      (2): Block(\n",
       "        (ln_1): LayerNorm((768,), eps=1e-05, elementwise_affine=True)\n",
       "        (attn): Attention(\n",
       "          (c_attn): Conv1D()\n",
       "          (c_proj): Conv1D()\n",
       "          (attn_dropout): Dropout(p=0.1, inplace=False)\n",
       "          (resid_dropout): Dropout(p=0.1, inplace=False)\n",
       "        )\n",
       "        (ln_2): LayerNorm((768,), eps=1e-05, elementwise_affine=True)\n",
       "        (mlp): MLP(\n",
       "          (c_fc): Conv1D()\n",
       "          (c_proj): Conv1D()\n",
       "          (dropout): Dropout(p=0.1, inplace=False)\n",
       "        )\n",
       "      )\n",
       "      (3): Block(\n",
       "        (ln_1): LayerNorm((768,), eps=1e-05, elementwise_affine=True)\n",
       "        (attn): Attention(\n",
       "          (c_attn): Conv1D()\n",
       "          (c_proj): Conv1D()\n",
       "          (attn_dropout): Dropout(p=0.1, inplace=False)\n",
       "          (resid_dropout): Dropout(p=0.1, inplace=False)\n",
       "        )\n",
       "        (ln_2): LayerNorm((768,), eps=1e-05, elementwise_affine=True)\n",
       "        (mlp): MLP(\n",
       "          (c_fc): Conv1D()\n",
       "          (c_proj): Conv1D()\n",
       "          (dropout): Dropout(p=0.1, inplace=False)\n",
       "        )\n",
       "      )\n",
       "      (4): Block(\n",
       "        (ln_1): LayerNorm((768,), eps=1e-05, elementwise_affine=True)\n",
       "        (attn): Attention(\n",
       "          (c_attn): Conv1D()\n",
       "          (c_proj): Conv1D()\n",
       "          (attn_dropout): Dropout(p=0.1, inplace=False)\n",
       "          (resid_dropout): Dropout(p=0.1, inplace=False)\n",
       "        )\n",
       "        (ln_2): LayerNorm((768,), eps=1e-05, elementwise_affine=True)\n",
       "        (mlp): MLP(\n",
       "          (c_fc): Conv1D()\n",
       "          (c_proj): Conv1D()\n",
       "          (dropout): Dropout(p=0.1, inplace=False)\n",
       "        )\n",
       "      )\n",
       "      (5): Block(\n",
       "        (ln_1): LayerNorm((768,), eps=1e-05, elementwise_affine=True)\n",
       "        (attn): Attention(\n",
       "          (c_attn): Conv1D()\n",
       "          (c_proj): Conv1D()\n",
       "          (attn_dropout): Dropout(p=0.1, inplace=False)\n",
       "          (resid_dropout): Dropout(p=0.1, inplace=False)\n",
       "        )\n",
       "        (ln_2): LayerNorm((768,), eps=1e-05, elementwise_affine=True)\n",
       "        (mlp): MLP(\n",
       "          (c_fc): Conv1D()\n",
       "          (c_proj): Conv1D()\n",
       "          (dropout): Dropout(p=0.1, inplace=False)\n",
       "        )\n",
       "      )\n",
       "      (6): Block(\n",
       "        (ln_1): LayerNorm((768,), eps=1e-05, elementwise_affine=True)\n",
       "        (attn): Attention(\n",
       "          (c_attn): Conv1D()\n",
       "          (c_proj): Conv1D()\n",
       "          (attn_dropout): Dropout(p=0.1, inplace=False)\n",
       "          (resid_dropout): Dropout(p=0.1, inplace=False)\n",
       "        )\n",
       "        (ln_2): LayerNorm((768,), eps=1e-05, elementwise_affine=True)\n",
       "        (mlp): MLP(\n",
       "          (c_fc): Conv1D()\n",
       "          (c_proj): Conv1D()\n",
       "          (dropout): Dropout(p=0.1, inplace=False)\n",
       "        )\n",
       "      )\n",
       "      (7): Block(\n",
       "        (ln_1): LayerNorm((768,), eps=1e-05, elementwise_affine=True)\n",
       "        (attn): Attention(\n",
       "          (c_attn): Conv1D()\n",
       "          (c_proj): Conv1D()\n",
       "          (attn_dropout): Dropout(p=0.1, inplace=False)\n",
       "          (resid_dropout): Dropout(p=0.1, inplace=False)\n",
       "        )\n",
       "        (ln_2): LayerNorm((768,), eps=1e-05, elementwise_affine=True)\n",
       "        (mlp): MLP(\n",
       "          (c_fc): Conv1D()\n",
       "          (c_proj): Conv1D()\n",
       "          (dropout): Dropout(p=0.1, inplace=False)\n",
       "        )\n",
       "      )\n",
       "      (8): Block(\n",
       "        (ln_1): LayerNorm((768,), eps=1e-05, elementwise_affine=True)\n",
       "        (attn): Attention(\n",
       "          (c_attn): Conv1D()\n",
       "          (c_proj): Conv1D()\n",
       "          (attn_dropout): Dropout(p=0.1, inplace=False)\n",
       "          (resid_dropout): Dropout(p=0.1, inplace=False)\n",
       "        )\n",
       "        (ln_2): LayerNorm((768,), eps=1e-05, elementwise_affine=True)\n",
       "        (mlp): MLP(\n",
       "          (c_fc): Conv1D()\n",
       "          (c_proj): Conv1D()\n",
       "          (dropout): Dropout(p=0.1, inplace=False)\n",
       "        )\n",
       "      )\n",
       "      (9): Block(\n",
       "        (ln_1): LayerNorm((768,), eps=1e-05, elementwise_affine=True)\n",
       "        (attn): Attention(\n",
       "          (c_attn): Conv1D()\n",
       "          (c_proj): Conv1D()\n",
       "          (attn_dropout): Dropout(p=0.1, inplace=False)\n",
       "          (resid_dropout): Dropout(p=0.1, inplace=False)\n",
       "        )\n",
       "        (ln_2): LayerNorm((768,), eps=1e-05, elementwise_affine=True)\n",
       "        (mlp): MLP(\n",
       "          (c_fc): Conv1D()\n",
       "          (c_proj): Conv1D()\n",
       "          (dropout): Dropout(p=0.1, inplace=False)\n",
       "        )\n",
       "      )\n",
       "      (10): Block(\n",
       "        (ln_1): LayerNorm((768,), eps=1e-05, elementwise_affine=True)\n",
       "        (attn): Attention(\n",
       "          (c_attn): Conv1D()\n",
       "          (c_proj): Conv1D()\n",
       "          (attn_dropout): Dropout(p=0.1, inplace=False)\n",
       "          (resid_dropout): Dropout(p=0.1, inplace=False)\n",
       "        )\n",
       "        (ln_2): LayerNorm((768,), eps=1e-05, elementwise_affine=True)\n",
       "        (mlp): MLP(\n",
       "          (c_fc): Conv1D()\n",
       "          (c_proj): Conv1D()\n",
       "          (dropout): Dropout(p=0.1, inplace=False)\n",
       "        )\n",
       "      )\n",
       "      (11): Block(\n",
       "        (ln_1): LayerNorm((768,), eps=1e-05, elementwise_affine=True)\n",
       "        (attn): Attention(\n",
       "          (c_attn): Conv1D()\n",
       "          (c_proj): Conv1D()\n",
       "          (attn_dropout): Dropout(p=0.1, inplace=False)\n",
       "          (resid_dropout): Dropout(p=0.1, inplace=False)\n",
       "        )\n",
       "        (ln_2): LayerNorm((768,), eps=1e-05, elementwise_affine=True)\n",
       "        (mlp): MLP(\n",
       "          (c_fc): Conv1D()\n",
       "          (c_proj): Conv1D()\n",
       "          (dropout): Dropout(p=0.1, inplace=False)\n",
       "        )\n",
       "      )\n",
       "    )\n",
       "    (ln_f): LayerNorm((768,), eps=1e-05, elementwise_affine=True)\n",
       "  )\n",
       "  (lm_head): Linear(in_features=768, out_features=50257, bias=False)\n",
       ")"
      ]
     },
     "execution_count": 3,
     "metadata": {},
     "output_type": "execute_result"
    }
   ],
   "source": [
    "tokenizer = GPT2Tokenizer.from_pretrained('gpt2')\n",
    "tokenizer.pad_token = tokenizer.eos_token\n",
    "model = GPT2LMHeadModel.from_pretrained('gpt2', pad_token_id=tokenizer.eos_token_id)\n",
    "model.eval().cuda()"
   ]
  },
  {
   "cell_type": "markdown",
   "id": "663cb169",
   "metadata": {},
   "source": [
    "# GPT-2 Utility functions"
   ]
  },
  {
   "cell_type": "code",
   "execution_count": 4,
   "id": "14cfa39a",
   "metadata": {},
   "outputs": [],
   "source": [
    "def generate(prompt, max_length=21, stop_token=None):\n",
    "    input_ids = tokenizer.encode(prompt, return_tensors=\"pt\")\n",
    "    generated_text_ids = model.generate(input_ids=input_ids.cuda(), max_length=max_length+len(input_ids[0]), do_sample=False)\n",
    "    generated_text = tokenizer.decode(generated_text_ids[0], clean_up_tokenization_spaces=True)\n",
    "    post_prompt_text = generated_text[len(tokenizer.decode(input_ids[0], clean_up_tokenization_spaces=True)):]\n",
    "    return prompt + post_prompt_text[:post_prompt_text.find(stop_token) if stop_token else None]"
   ]
  },
  {
   "cell_type": "code",
   "execution_count": 5,
   "id": "69adfff1",
   "metadata": {},
   "outputs": [],
   "source": [
    "# Note that the logits are shifted over 1 to the left, since HuggingFace doesn't give a logit for the first token\n",
    "def get_logits_and_tokens(text):\n",
    "    input_ids = tokenizer.encode(text, return_tensors=\"pt\")\n",
    "    tokens = [tokenizer.decode([input_id]) for input_id in input_ids[0]]\n",
    "    output = model(input_ids.cuda())\n",
    "    return output.logits[0][:-1], tokens"
   ]
  },
  {
   "cell_type": "markdown",
   "id": "d48440c5",
   "metadata": {},
   "source": [
    "# Loading the data"
   ]
  },
  {
   "cell_type": "code",
   "execution_count": 6,
   "id": "6fb84858",
   "metadata": {},
   "outputs": [],
   "source": [
    "def load_jsonl(filename):\n",
    "    f = open(filename)\n",
    "    return [json.loads(line) for line in f.read().splitlines()]"
   ]
  },
  {
   "cell_type": "code",
   "execution_count": 7,
   "id": "ed5f4b4f",
   "metadata": {},
   "outputs": [],
   "source": [
    "train_examples = load_jsonl(\"data/train.jsonl\")\n",
    "dev_examples = load_jsonl(\"data/dev.jsonl\")\n",
    "test_examples = load_jsonl(\"data/test_no_labels.jsonl\")"
   ]
  },
  {
   "cell_type": "code",
   "execution_count": 8,
   "id": "23d9d4f5",
   "metadata": {},
   "outputs": [],
   "source": [
    "def split_neg_pos_examples(examples):\n",
    "    pos_examples, neg_examples = [],[]\n",
    "    for eg in examples:\n",
    "        if eg['label'] == 'True':\n",
    "            pos_examples.append(eg)\n",
    "        else:\n",
    "            neg_examples.append(eg)\n",
    "    return pos_examples, neg_examples"
   ]
  },
  {
   "cell_type": "code",
   "execution_count": 9,
   "id": "6953b138",
   "metadata": {},
   "outputs": [],
   "source": [
    "def text_size_plot(examples):\n",
    "    length = []\n",
    "    for eg in examples:\n",
    "        length.append(len(eg['text']))\n",
    "    n = [i for i in range(len(examples))]\n",
    "    plt.bar(n, length)\n",
    "    print(\"Smallest 10 samples : \"+str(sorted(length)[:10]))"
   ]
  },
  {
   "cell_type": "markdown",
   "id": "d39a7fdc",
   "metadata": {},
   "source": [
    "Splitting the data into negative and positive samples in order to create a balanced training set"
   ]
  },
  {
   "cell_type": "code",
   "execution_count": 10,
   "id": "5c5665db",
   "metadata": {},
   "outputs": [],
   "source": [
    "pos_examples, neg_examples = split_neg_pos_examples(train_examples)"
   ]
  },
  {
   "cell_type": "markdown",
   "id": "8a413a9c",
   "metadata": {},
   "source": [
    "Checking out the distribution of the length of the texts in the training samples. Because gpt2 takes max 1024 tokens as input, we can only input a few of the training samples for the prompt"
   ]
  },
  {
   "cell_type": "code",
   "execution_count": 11,
   "id": "bf923313",
   "metadata": {},
   "outputs": [
    {
     "name": "stdout",
     "output_type": "stream",
     "text": [
      "Smallest 10 samples : [558, 575, 727, 730, 731, 808, 812, 821, 828, 842]\n"
     ]
    },
    {
     "data": {
      "image/png": "[encoded data removed]",
      "text/plain": [
       "<Figure size 432x288 with 1 Axes>"
      ]
     },
     "metadata": {
      "needs_background": "light"
     },
     "output_type": "display_data"
    }
   ],
   "source": [
    "text_size_plot(pos_examples)"
   ]
  },
  {
   "cell_type": "code",
   "execution_count": 12,
   "id": "1d908c89",
   "metadata": {},
   "outputs": [
    {
     "name": "stdout",
     "output_type": "stream",
     "text": [
      "Smallest 10 samples : [166, 171, 177, 216, 218, 224, 225, 251, 251, 254]\n"
     ]
    },
    {
     "data": {
      "image/png": "[encoded data removed]",
      "text/plain": [
       "<Figure size 432x288 with 1 Axes>"
      ]
     },
     "metadata": {
      "needs_background": "light"
     },
     "output_type": "display_data"
    }
   ],
   "source": [
    "text_size_plot(neg_examples)"
   ]
  },
  {
   "cell_type": "markdown",
   "id": "db0cde5a",
   "metadata": {},
   "source": [
    "Sorting the training examples in order of the length of the texts in order to incorporate more samples in the prompt as much as possible"
   ]
  },
  {
   "cell_type": "code",
   "execution_count": 13,
   "id": "eb307e49",
   "metadata": {},
   "outputs": [],
   "source": [
    "train_examples = sorted(train_examples,key=lambda x:len(x['text']))\n",
    "pos_examples, neg_examples = split_neg_pos_examples(train_examples)"
   ]
  },
  {
   "cell_type": "markdown",
   "id": "5d5381fc",
   "metadata": {},
   "source": [
    "# Basic prompt building"
   ]
  },
  {
   "cell_type": "code",
   "execution_count": 14,
   "id": "4fa04382",
   "metadata": {},
   "outputs": [],
   "source": [
    "def render_example(example):\n",
    "    title = example[\"text\"].split(\".\")[0].strip()\n",
    "    abstract = example[\"text\"][len(title)+1:].strip()\n",
    "    return f\"\"\"Title: {title}\n",
    "Abstract: {abstract}\n",
    "Label: {\"AI\" if example[\"label\"] == \"True\" else \"Not AI\"}\"\"\""
   ]
  },
  {
   "cell_type": "code",
   "execution_count": 15,
   "id": "87c8c95e",
   "metadata": {},
   "outputs": [],
   "source": [
    "def render_end_example(example):\n",
    "    title = example[\"text\"].split(\".\")[0].strip()\n",
    "    abstract = example[\"text\"][len(title)+1:].strip()\n",
    "    return f\"\"\"Title: {title}\n",
    "Abstract: {abstract}\n",
    "Label:\"\"\""
   ]
  },
  {
   "cell_type": "code",
   "execution_count": 16,
   "id": "217e0577",
   "metadata": {},
   "outputs": [],
   "source": [
    "def make_prompt(instructions, train_examples, end_example):\n",
    "    rendered_train_examples = \"\\n\\n--\\n\\n\".join([render_example(example) for example in train_examples])\n",
    "    return f\"\"\"{instructions}\n",
    "\n",
    "{rendered_train_examples}\n",
    "\n",
    "--\n",
    "\n",
    "{render_end_example(end_example)}\"\"\""
   ]
  },
  {
   "cell_type": "markdown",
   "id": "1fb5c5ec",
   "metadata": {},
   "source": [
    "Function to create prompts for all the examples in the training set in order to get a classification for each of the examples of the dataset"
   ]
  },
  {
   "cell_type": "code",
   "execution_count": 17,
   "id": "fcf66ce4",
   "metadata": {},
   "outputs": [],
   "source": [
    "def make_prompts(instructions, train_examples, end_examples):\n",
    "    rendered_train_examples = \"\\n\\n--\\n\\n\".join([render_example(example) for example in train_examples])\n",
    "    \n",
    "    prompts = []\n",
    "    for end_example in end_examples:\n",
    "        prompts.append( f\"\"\"{instructions}\n",
    "\n",
    "{rendered_train_examples}\n",
    "\n",
    "--\n",
    "\n",
    "{render_end_example(end_example)}\"\"\" )\n",
    "        \n",
    "    return prompts"
   ]
  },
  {
   "cell_type": "markdown",
   "id": "f373bc7f",
   "metadata": {},
   "source": [
    "Generic function to classify all the examples using prompt generated using a few examples"
   ]
  },
  {
   "cell_type": "code",
   "execution_count": 18,
   "id": "ae44b3da",
   "metadata": {},
   "outputs": [],
   "source": [
    "def classify_gpt(train_examples, end_examples, INSTRUCTIONS):\n",
    "\n",
    "    prompts = make_prompts(INSTRUCTIONS, train_examples, end_examples)\n",
    "    outputs = []\n",
    "\n",
    "    for prompt in tqdm(prompts):\n",
    "        generated_text = generate(prompt, stop_token=\"\\n\")\n",
    "        output = generated_text.split('\\n')[-1][7:]\n",
    "        outputs.append(output)\n",
    "        \n",
    "    return outputs"
   ]
  },
  {
   "cell_type": "markdown",
   "id": "c6912489",
   "metadata": {},
   "source": [
    "### Due to imbalanced dataset, we look at the precision, recall and f1 score other than accuracy"
   ]
  },
  {
   "cell_type": "code",
   "execution_count": 19,
   "id": "3c45fac5",
   "metadata": {},
   "outputs": [],
   "source": [
    "def print_metrics(outputs, examples):\n",
    "    pred = torch.Tensor([0 if out=='Not AI' else 1 for out in outputs])\n",
    "    label = torch.Tensor([0 if out['label']=='False' else 1 for out in examples])\n",
    "    accuracy = (label==pred).sum() / len(label)\n",
    "    ConfusionMatrixDisplay.from_predictions(label, pred, display_labels=['Not AI','AI'])\n",
    "    plt.show()\n",
    "    report = classification_report(label, pred, target_names=['Not AI','AI'])\n",
    "    return accuracy, report"
   ]
  },
  {
   "cell_type": "code",
   "execution_count": 20,
   "id": "7db94e97",
   "metadata": {},
   "outputs": [],
   "source": [
    "def train_dev_accuracy(prompt_examples, train_examples, dev_examples, INSTRUCTIONS):\n",
    "    \n",
    "    print(\"-------------Train Set-------------\")\n",
    "    train_outputs = classify_gpt(prompt_examples,train_examples,INSTRUCTIONS)\n",
    "    train_accuracy, train_report = print_metrics(train_outputs, train_examples)\n",
    "    print(\"Train Set accuracy = {}\".format(str(train_accuracy)))\n",
    "    print(train_report)\n",
    "    dev_outputs = classify_gpt(prompt_examples,dev_examples,INSTRUCTIONS)\n",
    "    dev_accuracy, dev_report = print_metrics(dev_outputs, dev_examples)\n",
    "    print(\"-------------Dev Set-------------\")\n",
    "    print(\"Dev Set accuracy = {}\".format(str(dev_accuracy)))\n",
    "    print(dev_report)\n",
    "    "
   ]
  },
  {
   "cell_type": "markdown",
   "id": "ae97d596",
   "metadata": {},
   "source": [
    "## Classification using the straightforward way"
   ]
  },
  {
   "cell_type": "code",
   "execution_count": 21,
   "id": "0ab4bc46",
   "metadata": {},
   "outputs": [
    {
     "name": "stderr",
     "output_type": "stream",
     "text": [
      "\r",
      "  0%|                                                                                          | 0/500 [00:00<?, ?it/s]"
     ]
    },
    {
     "name": "stdout",
     "output_type": "stream",
     "text": [
      "-------------Train Set-------------\n"
     ]
    },
    {
     "name": "stderr",
     "output_type": "stream",
     "text": [
      "100%|████████████████████████████████████████████████████████████████████████████████| 500/500 [02:09<00:00,  3.86it/s]\n"
     ]
    },
    {
     "data": {
      "image/png": "[encoded data removed]",
      "text/plain": [
       "<Figure size 432x288 with 2 Axes>"
      ]
     },
     "metadata": {
      "needs_background": "light"
     },
     "output_type": "display_data"
    },
    {
     "name": "stderr",
     "output_type": "stream",
     "text": [
      "\r",
      "  0%|                                                                                          | 0/500 [00:00<?, ?it/s]"
     ]
    },
    {
     "name": "stdout",
     "output_type": "stream",
     "text": [
      "Train Set accuracy = tensor(0.9140)\n",
      "              precision    recall  f1-score   support\n",
      "\n",
      "      Not AI       0.91      1.00      0.96       457\n",
      "          AI       0.00      0.00      0.00        43\n",
      "\n",
      "    accuracy                           0.91       500\n",
      "   macro avg       0.46      0.50      0.48       500\n",
      "weighted avg       0.84      0.91      0.87       500\n",
      "\n"
     ]
    },
    {
     "name": "stderr",
     "output_type": "stream",
     "text": [
      "100%|████████████████████████████████████████████████████████████████████████████████| 500/500 [02:12<00:00,  3.77it/s]\n"
     ]
    },
    {
     "data": {
      "image/png": "[encoded data removed]",
      "text/plain": [
       "<Figure size 432x288 with 2 Axes>"
      ]
     },
     "metadata": {
      "needs_background": "light"
     },
     "output_type": "display_data"
    },
    {
     "name": "stdout",
     "output_type": "stream",
     "text": [
      "-------------Dev Set-------------\n",
      "Dev Set accuracy = tensor(0.8900)\n",
      "              precision    recall  f1-score   support\n",
      "\n",
      "      Not AI       0.89      1.00      0.94       445\n",
      "          AI       0.00      0.00      0.00        55\n",
      "\n",
      "    accuracy                           0.89       500\n",
      "   macro avg       0.45      0.50      0.47       500\n",
      "weighted avg       0.79      0.89      0.84       500\n",
      "\n"
     ]
    }
   ],
   "source": [
    "INSTRUCTIONS = \"Classify the following examples based on whether they are AI-relevant or not:\"\n",
    "train_dev_accuracy(train_examples[:7],train_examples,dev_examples,INSTRUCTIONS)"
   ]
  },
  {
   "cell_type": "markdown",
   "id": "1ef9af91",
   "metadata": {},
   "source": [
    "#### From the result, we can see that the model classifies default 'Not AI' for all the examples. This is due to imbalanced dataset, so the training examples in the prompt only contains example of one class"
   ]
  },
  {
   "cell_type": "markdown",
   "id": "3432d00c",
   "metadata": {},
   "source": [
    "## Prompt Engineering"
   ]
  },
  {
   "cell_type": "markdown",
   "id": "9bb41f54",
   "metadata": {},
   "source": [
    "generic function to look at the generated text as well look at the probabilites of the 2 classes as output by the pretrained model"
   ]
  },
  {
   "cell_type": "code",
   "execution_count": 22,
   "id": "d429b300",
   "metadata": {},
   "outputs": [],
   "source": [
    "def check_prob_gentext(INSTRUCTIONS, train_examples, end_example):\n",
    "    \n",
    "    prompt = make_prompt(INSTRUCTIONS, train_examples, end_example)\n",
    "\n",
    "    generated_text = generate(prompt, stop_token=\"\\n\")\n",
    "\n",
    "    #print(generated_text)\n",
    "\n",
    "    logits, tokens = get_logits_and_tokens(generated_text)\n",
    "    last_token_probs = torch.softmax(logits[-1], dim=0)\n",
    "    negative_prob = last_token_probs[tokenizer.encode(\" AI\")[0]]\n",
    "    positive_prob = last_token_probs[tokenizer.encode(\" Not AI\")[0]]\n",
    "\n",
    "    print(f\"Not AI prob: {negative_prob}\\nAI prob: {positive_prob}\")"
   ]
  },
  {
   "cell_type": "code",
   "execution_count": 23,
   "id": "c9f744e4",
   "metadata": {},
   "outputs": [
    {
     "name": "stdout",
     "output_type": "stream",
     "text": [
      "Not AI prob: 0.9934048056602478\n",
      "AI prob: 1.0336410923628137e-05\n"
     ]
    }
   ],
   "source": [
    "INSTRUCTIONS = \"Classify each of the following examples based on whether they are AI-relevant or not\"\n",
    "check_prob_gentext(INSTRUCTIONS, train_examples[:4], train_examples[4])"
   ]
  },
  {
   "cell_type": "markdown",
   "id": "e5bd4a27",
   "metadata": {},
   "source": [
    "## Classification using the balanced dataset of positive and negative samples"
   ]
  },
  {
   "cell_type": "code",
   "execution_count": 24,
   "id": "e69f2a63",
   "metadata": {},
   "outputs": [
    {
     "name": "stderr",
     "output_type": "stream",
     "text": [
      "\r",
      "  0%|                                                                                          | 0/500 [00:00<?, ?it/s]"
     ]
    },
    {
     "name": "stdout",
     "output_type": "stream",
     "text": [
      "-------------Train Set-------------\n"
     ]
    },
    {
     "name": "stderr",
     "output_type": "stream",
     "text": [
      "100%|████████████████████████████████████████████████████████████████████████████████| 500/500 [02:18<00:00,  3.62it/s]\n"
     ]
    },
    {
     "data": {
      "image/png": "[encoded data removed]",
      "text/plain": [
       "<Figure size 432x288 with 2 Axes>"
      ]
     },
     "metadata": {
      "needs_background": "light"
     },
     "output_type": "display_data"
    },
    {
     "name": "stderr",
     "output_type": "stream",
     "text": [
      "\r",
      "  0%|                                                                                          | 0/500 [00:00<?, ?it/s]"
     ]
    },
    {
     "name": "stdout",
     "output_type": "stream",
     "text": [
      "Train Set accuracy = tensor(0.9160)\n",
      "              precision    recall  f1-score   support\n",
      "\n",
      "      Not AI       0.92      1.00      0.96       457\n",
      "          AI       1.00      0.02      0.05        43\n",
      "\n",
      "    accuracy                           0.92       500\n",
      "   macro avg       0.96      0.51      0.50       500\n",
      "weighted avg       0.92      0.92      0.88       500\n",
      "\n"
     ]
    },
    {
     "name": "stderr",
     "output_type": "stream",
     "text": [
      "100%|████████████████████████████████████████████████████████████████████████████████| 500/500 [02:17<00:00,  3.63it/s]\n"
     ]
    },
    {
     "data": {
      "image/png": "[encoded data removed]",
      "text/plain": [
       "<Figure size 432x288 with 2 Axes>"
      ]
     },
     "metadata": {
      "needs_background": "light"
     },
     "output_type": "display_data"
    },
    {
     "name": "stdout",
     "output_type": "stream",
     "text": [
      "-------------Dev Set-------------\n",
      "Dev Set accuracy = tensor(0.8900)\n",
      "              precision    recall  f1-score   support\n",
      "\n",
      "      Not AI       0.89      1.00      0.94       445\n",
      "          AI       0.00      0.00      0.00        55\n",
      "\n",
      "    accuracy                           0.89       500\n",
      "   macro avg       0.45      0.50      0.47       500\n",
      "weighted avg       0.79      0.89      0.84       500\n",
      "\n"
     ]
    }
   ],
   "source": [
    "train_dev_accuracy(pos_examples[:2]+neg_examples[:2],train_examples,dev_examples,INSTRUCTIONS)"
   ]
  },
  {
   "cell_type": "markdown",
   "id": "ce64ef41",
   "metadata": {},
   "source": [
    "#### Based on the results, the result is only insignificantly improved. This means that we need to engineer better prompts for training"
   ]
  },
  {
   "cell_type": "markdown",
   "id": "458c40c7",
   "metadata": {},
   "source": [
    "Changing the 'label' to 'AI-related' and changing the instruction so that the model answers True or False to whether the text is related to AI"
   ]
  },
  {
   "cell_type": "code",
   "execution_count": 25,
   "id": "d1ecece3",
   "metadata": {},
   "outputs": [],
   "source": [
    "def render_example(example):\n",
    "    title = example[\"text\"].split(\".\")[0].strip()\n",
    "    abstract = example[\"text\"][len(title)+1:].strip()\n",
    "    return f\"\"\"Title: {title}\n",
    "Abstract: {abstract}\n",
    "AI-relevant: {\"True\" if example[\"label\"] == \"True\" else \"False\"}\"\"\""
   ]
  },
  {
   "cell_type": "code",
   "execution_count": 26,
   "id": "6118e6dd",
   "metadata": {},
   "outputs": [],
   "source": [
    "def render_end_example(example):\n",
    "    title = example[\"text\"].split(\".\")[0].strip()\n",
    "    abstract = example[\"text\"][len(title)+1:].strip()\n",
    "    return f\"\"\"Title: {title}\n",
    "Abstract: {abstract}\n",
    "AI-relevant:\"\"\""
   ]
  },
  {
   "cell_type": "code",
   "execution_count": 27,
   "id": "bf4fc322",
   "metadata": {},
   "outputs": [],
   "source": [
    "def check_prob_gentext(INSTRUCTIONS, train_examples, end_example):\n",
    "    \n",
    "    prompt = make_prompt(INSTRUCTIONS, train_examples, end_example)\n",
    "\n",
    "    generated_text = generate(prompt, stop_token=\"\\n\")\n",
    "\n",
    "    print(generated_text)\n",
    "\n",
    "    logits, tokens = get_logits_and_tokens(generated_text)\n",
    "    last_token_probs = torch.softmax(logits[-1], dim=0)\n",
    "    negative_prob = last_token_probs[tokenizer.encode(\" False\")[0]]\n",
    "    positive_prob = last_token_probs[tokenizer.encode(\" True\")[0]]\n",
    "\n",
    "    print(f\"\\n\\nTrue prob: {positive_prob}\\nFalse prob: {negative_prob}\")"
   ]
  },
  {
   "cell_type": "code",
   "execution_count": 28,
   "id": "700c1d53",
   "metadata": {},
   "outputs": [
    {
     "name": "stdout",
     "output_type": "stream",
     "text": [
      "Classify each of the following examples based on whether they are AI-relevant or not\n",
      "\n",
      "Title: acoustic lens associated with a radial oscillating bubble\n",
      "Abstract: in this paper we show that a radial oscillating bubble in a liquid behaves like a convergent acoustic lens.\n",
      "AI-relevant: False\n",
      "\n",
      "--\n",
      "\n",
      "Title: diophantine approximations and the convergence of certain series\n",
      "Abstract: consider two series theta < alpha leq theta in mathbb q theta theta alpha> frac12 theta theta alpha leq .\n",
      "AI-relevant: False\n",
      "\n",
      "--\n",
      "\n",
      "Title: ancient multiple layer solutions to the allen cahn equation\n",
      "Abstract: we consider the parabolic one dimensional allen cahn equation w x = tanh x sqrt u k k w t to infty xi j t gamma jk .\n",
      "AI-relevant: False\n",
      "\n",
      "--\n",
      "\n",
      "Title: searches for new neutral gauge bosons and leptoquarks at the tevatron\n",
      "Abstract: this contribution reports on some of the most recent searches for new heavy neutral bosons and leptoquarks performed at the tevatron experiments.\n",
      "AI-relevant: False\n",
      "\n",
      "--\n",
      "\n",
      "Title: some remarks on the differences between ordinates of consecutive zeta zeros\n",
      "Abstract: if denote ordinates of complex zeros of the riemann zeta function then several results involving the maximal order of and the sum are proved.\n",
      "AI-relevant: False\n",
      "\n",
      "--\n",
      "\n",
      "Title: a comparison principle for bergman kernels\n",
      "Abstract: we give a version of the comparison principle from pluripotential theory where the monge amp `ere measure is replaced by the bergman kernel and use it to derive a maximum principle\n",
      "AI-relevant: False\n",
      "\n",
      "--\n",
      "\n",
      "Title: a proof of irrationality of by contraposition\n",
      "Abstract: we point out that the proof of irrationality of by niven can be modified to a proof by contraposition. as a warm up we also give a proof of irrationality of and in a similar way.\n",
      "AI-relevant: False\n",
      "\n",
      "--\n",
      "\n",
      "Title: weights and nilpotent subgroups\n",
      "Abstract: in a finite group g we consider nilpotent weights and prove a pi version of the alperin weight conjecture for certain pi separable groups. this widely generalizes an earlier result by i. m. isaacs and the first author.\n",
      "AI-relevant: False\n",
      "\n",
      "--\n",
      "\n",
      "Title: theta correspondences for gsp\n",
      "Abstract: . we explicitly determine the theta correspondences for and orthogonal similitude groups associated to various quadratic spaces of rank and . the results are needed in our proof of the local langlands correspondence for .\n",
      "AI-relevant: False\n",
      "\n",
      "--\n",
      "\n",
      "Title: new results on d optimal matrices\n",
      "Abstract: we construct a number of new v r s lambda supplementary difference sets sds with v odd and lambda = r+s v . in particular these give rise to d optimal matrices of the four new orders constructed here for the first time.\n",
      "AI-relevant: False\n",
      "\n",
      "--\n",
      "\n",
      "Title: developing robot driver etiquette based on naturalistic human driving behavior\n",
      "Abstract: automated vehicles can change the society by improved safety mobility and fuel efficiency. however due to the higher cost and change in business model over the coming decades the highly automated vehicles likely will continue to interact with many human driven vehicles. in the past the control design of the highly automated robotic vehicles mainly considers safety and efficiency but failed to address the driving culture of surrounding human driven vehicles. thus the robotic vehicles may demonstrate behaviors very different from other vehicles. we study this driving etiquette problem in this paper. as the first step we report the key behavior parameters of human driven vehicles derived from a large naturalistic driving database. the results can be used to guide future algorithm design of highly automated vehicles or to develop realistic human driven vehicle behavior model in simulations.\n",
      "AI-relevant: False\n",
      "\n",
      "\n",
      "True prob: 0.05237371847033501\n",
      "False prob: 0.884368896484375\n"
     ]
    }
   ],
   "source": [
    "INSTRUCTIONS = \"Classify each of the following examples based on whether they are AI-relevant or not\"\n",
    "check_prob_gentext(INSTRUCTIONS, train_examples[:10], pos_examples[16])"
   ]
  },
  {
   "cell_type": "code",
   "execution_count": 29,
   "id": "3a0d3b17",
   "metadata": {},
   "outputs": [
    {
     "name": "stdout",
     "output_type": "stream",
     "text": [
      "Classify each of the following examples based on whether they are AI-relevant or not\n",
      "\n",
      "Title: horn a system for parallel training and regularizing of large scale neural networks\n",
      "Abstract: i introduce a new distributed system for effective training and regularizing of large scale neural networks on distributed computing architectures. the experiments demonstrate the effectiveness of flexible model partitioning and parallelization strategies based on neuron centric computation model with an implementation of the collective and parallel dropout neural networks training. experiments are performed on mnist handwritten digits classification including results.\n",
      "AI-relevant: True\n",
      "\n",
      "--\n",
      "\n",
      "Title: image completion on cifar\n",
      "Abstract: . this project performed image completion on cifar a dataset of 32x32 rgb images using three different neural network architectures fully convolutional networks convolutional networks with fully connected layers and encoder decoder convolutional networks. the highest performing model was a deep fully convolutional network which was able to achieve a mean squared error of when comparing the original image pixel values with the predicted pixel values. as well this network was able to output in painted images which appeared real to the human eye.\n",
      "AI-relevant: True\n",
      "\n",
      "--\n",
      "\n",
      "Title: cognitive consistency routing algorithm of capsule network\n",
      "Abstract: artificial neural networks anns are computational models inspired by the central nervous system especially the brain of animals and are used to estimate or generate unknown approximation functions relied on large amounts of inputs. capsule neural network sabour s et al. is a novel structure of convolutional neural networks which simulates the visual processing system of human brain. in this paper we introduce psychological theories which called cognitive consistency to optimize the routing algorithm of capsnet to make it more close to the work pattern of human brain. it has been shown in the experiment that a progress had been made compared with the baseline.\n",
      "AI-relevant: True\n",
      "\n",
      "--\n",
      "\n",
      "Title: neural latent extractive document summarization\n",
      "Abstract: extractive summarization models require sentence level labels which are usually created heuristically e.g. with rule based methods given that most summarization datasets only have document summary pairs. since these labels might be suboptimal we propose a latent variable extractive model where sentences are viewed as latent variables and sentences with activated variables are used to infer gold summaries. during training the loss comes emph directly from gold summaries. experiments on the cnn dailymail dataset show that our model improves over a strong extractive baseline trained on heuristically approximated labels and also performs competitively to several recent models.\n",
      "AI-relevant: True\n",
      "\n",
      "--\n",
      "\n",
      "Title: acoustic lens associated with a radial oscillating bubble\n",
      "Abstract: in this paper we show that a radial oscillating bubble in a liquid behaves like a convergent acoustic lens.\n",
      "AI-relevant: False\n",
      "\n",
      "--\n",
      "\n",
      "Title: diophantine approximations and the convergence of certain series\n",
      "Abstract: consider two series theta < alpha leq theta in mathbb q theta theta alpha> frac12 theta theta alpha leq .\n",
      "AI-relevant: False\n",
      "\n",
      "--\n",
      "\n",
      "Title: ancient multiple layer solutions to the allen cahn equation\n",
      "Abstract: we consider the parabolic one dimensional allen cahn equation w x = tanh x sqrt u k k w t to infty xi j t gamma jk .\n",
      "AI-relevant: False\n",
      "\n",
      "--\n",
      "\n",
      "Title: searches for new neutral gauge bosons and leptoquarks at the tevatron\n",
      "Abstract: this contribution reports on some of the most recent searches for new heavy neutral bosons and leptoquarks performed at the tevatron experiments.\n",
      "AI-relevant: False\n",
      "\n",
      "--\n",
      "\n",
      "Title: developing robot driver etiquette based on naturalistic human driving behavior\n",
      "Abstract: automated vehicles can change the society by improved safety mobility and fuel efficiency. however due to the higher cost and change in business model over the coming decades the highly automated vehicles likely will continue to interact with many human driven vehicles. in the past the control design of the highly automated robotic vehicles mainly considers safety and efficiency but failed to address the driving culture of surrounding human driven vehicles. thus the robotic vehicles may demonstrate behaviors very different from other vehicles. we study this driving etiquette problem in this paper. as the first step we report the key behavior parameters of human driven vehicles derived from a large naturalistic driving database. the results can be used to guide future algorithm design of highly automated vehicles or to develop realistic human driven vehicle behavior model in simulations.\n",
      "AI-relevant: True\n",
      "\n",
      "\n",
      "True prob: 0.4877910912036896\n",
      "False prob: 0.4635416269302368\n"
     ]
    }
   ],
   "source": [
    "INSTRUCTIONS = \"Classify each of the following examples based on whether they are AI-relevant or not\"\n",
    "check_prob_gentext(INSTRUCTIONS, pos_examples[:4]+neg_examples[:4], pos_examples[16])"
   ]
  },
  {
   "cell_type": "markdown",
   "id": "b39df258",
   "metadata": {},
   "source": [
    "#### Performs better for balanced dataset. But still looking at the probabilities, the model is still confused about the result"
   ]
  },
  {
   "cell_type": "markdown",
   "id": "f447ef2a",
   "metadata": {},
   "source": [
    "Better mixing the samples together, so there is no repeatable pattern that can be considered by the model"
   ]
  },
  {
   "cell_type": "code",
   "execution_count": 30,
   "id": "26c4ce3f",
   "metadata": {},
   "outputs": [
    {
     "name": "stdout",
     "output_type": "stream",
     "text": [
      "Classify each of the following examples based on whether they are AI-relevant or not\n",
      "\n",
      "Title: horn a system for parallel training and regularizing of large scale neural networks\n",
      "Abstract: i introduce a new distributed system for effective training and regularizing of large scale neural networks on distributed computing architectures. the experiments demonstrate the effectiveness of flexible model partitioning and parallelization strategies based on neuron centric computation model with an implementation of the collective and parallel dropout neural networks training. experiments are performed on mnist handwritten digits classification including results.\n",
      "AI-relevant: True\n",
      "\n",
      "--\n",
      "\n",
      "Title: acoustic lens associated with a radial oscillating bubble\n",
      "Abstract: in this paper we show that a radial oscillating bubble in a liquid behaves like a convergent acoustic lens.\n",
      "AI-relevant: False\n",
      "\n",
      "--\n",
      "\n",
      "Title: diophantine approximations and the convergence of certain series\n",
      "Abstract: consider two series theta < alpha leq theta in mathbb q theta theta alpha> frac12 theta theta alpha leq .\n",
      "AI-relevant: False\n",
      "\n",
      "--\n",
      "\n",
      "Title: image completion on cifar\n",
      "Abstract: . this project performed image completion on cifar a dataset of 32x32 rgb images using three different neural network architectures fully convolutional networks convolutional networks with fully connected layers and encoder decoder convolutional networks. the highest performing model was a deep fully convolutional network which was able to achieve a mean squared error of when comparing the original image pixel values with the predicted pixel values. as well this network was able to output in painted images which appeared real to the human eye.\n",
      "AI-relevant: True\n",
      "\n",
      "--\n",
      "\n",
      "Title: cognitive consistency routing algorithm of capsule network\n",
      "Abstract: artificial neural networks anns are computational models inspired by the central nervous system especially the brain of animals and are used to estimate or generate unknown approximation functions relied on large amounts of inputs. capsule neural network sabour s et al. is a novel structure of convolutional neural networks which simulates the visual processing system of human brain. in this paper we introduce psychological theories which called cognitive consistency to optimize the routing algorithm of capsnet to make it more close to the work pattern of human brain. it has been shown in the experiment that a progress had been made compared with the baseline.\n",
      "AI-relevant: True\n",
      "\n",
      "--\n",
      "\n",
      "Title: ancient multiple layer solutions to the allen cahn equation\n",
      "Abstract: we consider the parabolic one dimensional allen cahn equation w x = tanh x sqrt u k k w t to infty xi j t gamma jk .\n",
      "AI-relevant: False\n",
      "\n",
      "--\n",
      "\n",
      "Title: neural latent extractive document summarization\n",
      "Abstract: extractive summarization models require sentence level labels which are usually created heuristically e.g. with rule based methods given that most summarization datasets only have document summary pairs. since these labels might be suboptimal we propose a latent variable extractive model where sentences are viewed as latent variables and sentences with activated variables are used to infer gold summaries. during training the loss comes emph directly from gold summaries. experiments on the cnn dailymail dataset show that our model improves over a strong extractive baseline trained on heuristically approximated labels and also performs competitively to several recent models.\n",
      "AI-relevant: True\n",
      "\n",
      "--\n",
      "\n",
      "Title: searches for new neutral gauge bosons and leptoquarks at the tevatron\n",
      "Abstract: this contribution reports on some of the most recent searches for new heavy neutral bosons and leptoquarks performed at the tevatron experiments.\n",
      "AI-relevant: False\n",
      "\n",
      "--\n",
      "\n",
      "Title: billiard complexity in the hypercube\n",
      "Abstract: we consider the billiard map in the hypercube of . we obtain a language by coding the billiard map by the faces of the hypercube. we investigate the complexity function of this language. we prove that is the order of magnitude of the complexity.\n",
      "AI-relevant: True\n",
      "\n",
      "\n",
      "True prob: 0.5256129503250122\n",
      "False prob: 0.4089474081993103\n"
     ]
    }
   ],
   "source": [
    "INSTRUCTIONS = \"Classify each of the following examples based on whether they are AI-relevant or not\"\n",
    "training_examples = []\n",
    "for i in range(4):\n",
    "    if torch.randint(2,(1,)):\n",
    "        training_examples.append(pos_examples[i])\n",
    "        training_examples.append(neg_examples[i])\n",
    "    else:\n",
    "        training_examples.append(neg_examples[i])\n",
    "        training_examples.append(pos_examples[i])\n",
    "check_prob_gentext(INSTRUCTIONS, training_examples, neg_examples[16])"
   ]
  },
  {
   "cell_type": "markdown",
   "id": "3d984754",
   "metadata": {},
   "source": [
    "#### Better result than without mixing."
   ]
  },
  {
   "cell_type": "markdown",
   "id": "1bcf101b",
   "metadata": {},
   "source": [
    "Considering another instruction"
   ]
  },
  {
   "cell_type": "code",
   "execution_count": 31,
   "id": "1b55d864",
   "metadata": {},
   "outputs": [
    {
     "name": "stdout",
     "output_type": "stream",
     "text": [
      "For each of the following examples, output Yes if they are related to Artificial Intelligence else No\n",
      "\n",
      "Title: acoustic lens associated with a radial oscillating bubble\n",
      "Abstract: in this paper we show that a radial oscillating bubble in a liquid behaves like a convergent acoustic lens.\n",
      "AI-relevant: False\n",
      "\n",
      "--\n",
      "\n",
      "Title: horn a system for parallel training and regularizing of large scale neural networks\n",
      "Abstract: i introduce a new distributed system for effective training and regularizing of large scale neural networks on distributed computing architectures. the experiments demonstrate the effectiveness of flexible model partitioning and parallelization strategies based on neuron centric computation model with an implementation of the collective and parallel dropout neural networks training. experiments are performed on mnist handwritten digits classification including results.\n",
      "AI-relevant: True\n",
      "\n",
      "--\n",
      "\n",
      "Title: image completion on cifar\n",
      "Abstract: . this project performed image completion on cifar a dataset of 32x32 rgb images using three different neural network architectures fully convolutional networks convolutional networks with fully connected layers and encoder decoder convolutional networks. the highest performing model was a deep fully convolutional network which was able to achieve a mean squared error of when comparing the original image pixel values with the predicted pixel values. as well this network was able to output in painted images which appeared real to the human eye.\n",
      "AI-relevant: True\n",
      "\n",
      "--\n",
      "\n",
      "Title: diophantine approximations and the convergence of certain series\n",
      "Abstract: consider two series theta < alpha leq theta in mathbb q theta theta alpha> frac12 theta theta alpha leq .\n",
      "AI-relevant: False\n",
      "\n",
      "--\n",
      "\n",
      "Title: ancient multiple layer solutions to the allen cahn equation\n",
      "Abstract: we consider the parabolic one dimensional allen cahn equation w x = tanh x sqrt u k k w t to infty xi j t gamma jk .\n",
      "AI-relevant: False\n",
      "\n",
      "--\n",
      "\n",
      "Title: cognitive consistency routing algorithm of capsule network\n",
      "Abstract: artificial neural networks anns are computational models inspired by the central nervous system especially the brain of animals and are used to estimate or generate unknown approximation functions relied on large amounts of inputs. capsule neural network sabour s et al. is a novel structure of convolutional neural networks which simulates the visual processing system of human brain. in this paper we introduce psychological theories which called cognitive consistency to optimize the routing algorithm of capsnet to make it more close to the work pattern of human brain. it has been shown in the experiment that a progress had been made compared with the baseline.\n",
      "AI-relevant: True\n",
      "\n",
      "--\n",
      "\n",
      "Title: neural latent extractive document summarization\n",
      "Abstract: extractive summarization models require sentence level labels which are usually created heuristically e.g. with rule based methods given that most summarization datasets only have document summary pairs. since these labels might be suboptimal we propose a latent variable extractive model where sentences are viewed as latent variables and sentences with activated variables are used to infer gold summaries. during training the loss comes emph directly from gold summaries. experiments on the cnn dailymail dataset show that our model improves over a strong extractive baseline trained on heuristically approximated labels and also performs competitively to several recent models.\n",
      "AI-relevant: True\n",
      "\n",
      "--\n",
      "\n",
      "Title: searches for new neutral gauge bosons and leptoquarks at the tevatron\n",
      "Abstract: this contribution reports on some of the most recent searches for new heavy neutral bosons and leptoquarks performed at the tevatron experiments.\n",
      "AI-relevant: False\n",
      "\n",
      "--\n",
      "\n",
      "Title: billiard complexity in the hypercube\n",
      "Abstract: we consider the billiard map in the hypercube of . we obtain a language by coding the billiard map by the faces of the hypercube. we investigate the complexity function of this language. we prove that is the order of magnitude of the complexity.\n",
      "AI-relevant: True\n",
      "\n",
      "\n",
      "True prob: 0.48144522309303284\n",
      "False prob: 0.46398353576660156\n"
     ]
    }
   ],
   "source": [
    "INSTRUCTIONS = \"For each of the following examples, output Yes if they are related to Artificial Intelligence(AI) else No\"\n",
    "training_examples = []\n",
    "for i in range(4):\n",
    "    if torch.randint(2,(1,)):\n",
    "        training_examples.append(pos_examples[i])\n",
    "        training_examples.append(neg_examples[i])\n",
    "    else:\n",
    "        training_examples.append(neg_examples[i])\n",
    "        training_examples.append(pos_examples[i])\n",
    "check_prob_gentext(INSTRUCTIONS, training_examples, neg_examples[16])"
   ]
  },
  {
   "cell_type": "markdown",
   "id": "f8af01b2",
   "metadata": {},
   "source": [
    "#### The probabilities are still too close but the output "
   ]
  },
  {
   "cell_type": "code",
   "execution_count": 32,
   "id": "2dee9db8",
   "metadata": {},
   "outputs": [],
   "source": [
    "def classify_gpt(train_examples, end_examples, INSTRUCTIONS):\n",
    "\n",
    "    prompts = make_prompts(INSTRUCTIONS, train_examples, end_examples)\n",
    "    outputs = []\n",
    "\n",
    "    for prompt in tqdm(prompts):\n",
    "        generated_text = generate(prompt, stop_token=\"\\n\")\n",
    "        output = generated_text.split('\\n')[-1][13:]\n",
    "        outputs.append(output)\n",
    "        \n",
    "    return outputs"
   ]
  },
  {
   "cell_type": "code",
   "execution_count": 33,
   "id": "d5961a75",
   "metadata": {},
   "outputs": [],
   "source": [
    "def print_metrics(outputs, examples):\n",
    "    pred = torch.Tensor([0 if out=='False' else 1 for out in outputs])\n",
    "    label = torch.Tensor([0 if out['label']=='False' else 1 for out in examples])\n",
    "    accuracy = (label==pred).sum() / len(label)\n",
    "    ConfusionMatrixDisplay.from_predictions(label, pred, display_labels=['Not AI','AI'])\n",
    "    plt.show()\n",
    "    report = classification_report(label, pred, target_names=['Not AI','AI'])\n",
    "    return accuracy, report"
   ]
  },
  {
   "cell_type": "code",
   "execution_count": 34,
   "id": "e1aa952b",
   "metadata": {},
   "outputs": [],
   "source": [
    "training_examples = []\n",
    "for i in range(2):\n",
    "    if torch.randint(2,(1,)):\n",
    "        training_examples.append(pos_examples[i])\n",
    "        training_examples.append(neg_examples[i])\n",
    "    else:\n",
    "        training_examples.append(neg_examples[i])\n",
    "        training_examples.append(pos_examples[i])"
   ]
  },
  {
   "cell_type": "code",
   "execution_count": 35,
   "id": "1d96641d",
   "metadata": {},
   "outputs": [
    {
     "name": "stderr",
     "output_type": "stream",
     "text": [
      "\r",
      "  0%|                                                                                          | 0/500 [00:00<?, ?it/s]"
     ]
    },
    {
     "name": "stdout",
     "output_type": "stream",
     "text": [
      "-------------Train Set-------------\n"
     ]
    },
    {
     "name": "stderr",
     "output_type": "stream",
     "text": [
      "100%|████████████████████████████████████████████████████████████████████████████████| 500/500 [02:14<00:00,  3.72it/s]\n"
     ]
    },
    {
     "data": {
      "image/png": "[encoded data removed]",
      "text/plain": [
       "<Figure size 432x288 with 2 Axes>"
      ]
     },
     "metadata": {
      "needs_background": "light"
     },
     "output_type": "display_data"
    },
    {
     "name": "stderr",
     "output_type": "stream",
     "text": [
      "\r",
      "  0%|                                                                                          | 0/500 [00:00<?, ?it/s]"
     ]
    },
    {
     "name": "stdout",
     "output_type": "stream",
     "text": [
      "Train Set accuracy = tensor(0.1060)\n",
      "              precision    recall  f1-score   support\n",
      "\n",
      "      Not AI       1.00      0.02      0.04       457\n",
      "          AI       0.09      1.00      0.16        43\n",
      "\n",
      "    accuracy                           0.11       500\n",
      "   macro avg       0.54      0.51      0.10       500\n",
      "weighted avg       0.92      0.11      0.05       500\n",
      "\n"
     ]
    },
    {
     "name": "stderr",
     "output_type": "stream",
     "text": [
      "100%|████████████████████████████████████████████████████████████████████████████████| 500/500 [02:10<00:00,  3.84it/s]\n"
     ]
    },
    {
     "data": {
      "image/png": "[encoded data removed]",
      "text/plain": [
       "<Figure size 432x288 with 2 Axes>"
      ]
     },
     "metadata": {
      "needs_background": "light"
     },
     "output_type": "display_data"
    },
    {
     "name": "stdout",
     "output_type": "stream",
     "text": [
      "-------------Dev Set-------------\n",
      "Dev Set accuracy = tensor(0.1380)\n",
      "              precision    recall  f1-score   support\n",
      "\n",
      "      Not AI       1.00      0.03      0.06       445\n",
      "          AI       0.11      1.00      0.20        55\n",
      "\n",
      "    accuracy                           0.14       500\n",
      "   macro avg       0.56      0.52      0.13       500\n",
      "weighted avg       0.90      0.14      0.08       500\n",
      "\n"
     ]
    }
   ],
   "source": [
    "INSTRUCTIONS = \"For each of the following examples, output Yes if they are related to Artificial Intelligence(AI) else No\"\n",
    "train_dev_accuracy(training_examples,train_examples,dev_examples,INSTRUCTIONS)"
   ]
  },
  {
   "cell_type": "markdown",
   "id": "5a217e3e",
   "metadata": {},
   "source": [
    "#### Result is poor but atleast the model is thinking about the different labels and no default output like previously"
   ]
  },
  {
   "cell_type": "code",
   "execution_count": 38,
   "id": "fc50a417",
   "metadata": {},
   "outputs": [
    {
     "name": "stderr",
     "output_type": "stream",
     "text": [
      "\r",
      "  0%|                                                                                          | 0/500 [00:00<?, ?it/s]"
     ]
    },
    {
     "name": "stdout",
     "output_type": "stream",
     "text": [
      "-------------Train Set-------------\n"
     ]
    },
    {
     "name": "stderr",
     "output_type": "stream",
     "text": [
      "100%|████████████████████████████████████████████████████████████████████████████████| 500/500 [02:15<00:00,  3.69it/s]\n"
     ]
    },
    {
     "data": {
      "image/png": "[encoded data removed]",
      "text/plain": [
       "<Figure size 432x288 with 2 Axes>"
      ]
     },
     "metadata": {
      "needs_background": "light"
     },
     "output_type": "display_data"
    },
    {
     "name": "stderr",
     "output_type": "stream",
     "text": [
      "\r",
      "  0%|                                                                                          | 0/500 [00:00<?, ?it/s]"
     ]
    },
    {
     "name": "stdout",
     "output_type": "stream",
     "text": [
      "Train Set accuracy = tensor(0.1940)\n",
      "              precision    recall  f1-score   support\n",
      "\n",
      "      Not AI       1.00      0.12      0.21       457\n",
      "          AI       0.10      1.00      0.18        43\n",
      "\n",
      "    accuracy                           0.19       500\n",
      "   macro avg       0.55      0.56      0.19       500\n",
      "weighted avg       0.92      0.19      0.21       500\n",
      "\n"
     ]
    },
    {
     "name": "stderr",
     "output_type": "stream",
     "text": [
      "100%|████████████████████████████████████████████████████████████████████████████████| 500/500 [02:19<00:00,  3.58it/s]\n"
     ]
    },
    {
     "data": {
      "image/png": "[encoded data removed]",
      "text/plain": [
       "<Figure size 432x288 with 2 Axes>"
      ]
     },
     "metadata": {
      "needs_background": "light"
     },
     "output_type": "display_data"
    },
    {
     "name": "stdout",
     "output_type": "stream",
     "text": [
      "-------------Dev Set-------------\n",
      "Dev Set accuracy = tensor(0.2060)\n",
      "              precision    recall  f1-score   support\n",
      "\n",
      "      Not AI       1.00      0.11      0.19       445\n",
      "          AI       0.12      1.00      0.22        55\n",
      "\n",
      "    accuracy                           0.21       500\n",
      "   macro avg       0.56      0.55      0.21       500\n",
      "weighted avg       0.90      0.21      0.20       500\n",
      "\n"
     ]
    }
   ],
   "source": [
    "training_examples = pos_examples[:2] + neg_examples[:3]\n",
    "INSTRUCTIONS = \"For each of the following examples, output Yes if the abstract is related to Artificial Intelligence(AI) else No\"\n",
    "train_dev_accuracy(training_examples,train_examples,dev_examples,INSTRUCTIONS)"
   ]
  },
  {
   "cell_type": "markdown",
   "id": "f6902331",
   "metadata": {},
   "source": [
    "#### Slightly better output but classification biased towards positive classification"
   ]
  },
  {
   "cell_type": "markdown",
   "id": "49ed7ecf",
   "metadata": {},
   "source": [
    "Adding an extra negative sample as its length is less and would fit the model"
   ]
  },
  {
   "cell_type": "code",
   "execution_count": 37,
   "id": "9c94cd0d",
   "metadata": {},
   "outputs": [],
   "source": [
    "training_examples = []\n",
    "for i in range(2):\n",
    "    if torch.randint(2,(1,)):\n",
    "        training_examples.append(pos_examples[i])\n",
    "        training_examples.append(neg_examples[i])\n",
    "    else:\n",
    "        training_examples.append(neg_examples[i])\n",
    "        training_examples.append(pos_examples[i])\n",
    "training_examples.append(neg_examples[2])    "
   ]
  },
  {
   "cell_type": "code",
   "execution_count": 36,
   "id": "93fa079c",
   "metadata": {},
   "outputs": [
    {
     "name": "stderr",
     "output_type": "stream",
     "text": [
      "\r",
      "  0%|                                                                                          | 0/500 [00:00<?, ?it/s]"
     ]
    },
    {
     "name": "stdout",
     "output_type": "stream",
     "text": [
      "-------------Train Set-------------\n"
     ]
    },
    {
     "name": "stderr",
     "output_type": "stream",
     "text": [
      "100%|████████████████████████████████████████████████████████████████████████████████| 500/500 [02:14<00:00,  3.72it/s]\n"
     ]
    },
    {
     "data": {
      "image/png": "[encoded data removed]",
      "text/plain": [
       "<Figure size 432x288 with 2 Axes>"
      ]
     },
     "metadata": {
      "needs_background": "light"
     },
     "output_type": "display_data"
    },
    {
     "name": "stderr",
     "output_type": "stream",
     "text": [
      "\r",
      "  0%|                                                                                          | 0/500 [00:00<?, ?it/s]"
     ]
    },
    {
     "name": "stdout",
     "output_type": "stream",
     "text": [
      "Train Set accuracy = tensor(0.8600)\n",
      "              precision    recall  f1-score   support\n",
      "\n",
      "      Not AI       0.92      0.93      0.92       457\n",
      "          AI       0.14      0.12      0.12        43\n",
      "\n",
      "    accuracy                           0.86       500\n",
      "   macro avg       0.53      0.52      0.52       500\n",
      "weighted avg       0.85      0.86      0.86       500\n",
      "\n"
     ]
    },
    {
     "name": "stderr",
     "output_type": "stream",
     "text": [
      "100%|████████████████████████████████████████████████████████████████████████████████| 500/500 [02:20<00:00,  3.56it/s]\n"
     ]
    },
    {
     "data": {
      "image/png": "[encoded data removed]",
      "text/plain": [
       "<Figure size 432x288 with 2 Axes>"
      ]
     },
     "metadata": {
      "needs_background": "light"
     },
     "output_type": "display_data"
    },
    {
     "name": "stdout",
     "output_type": "stream",
     "text": [
      "-------------Dev Set-------------\n",
      "Dev Set accuracy = tensor(0.8400)\n",
      "              precision    recall  f1-score   support\n",
      "\n",
      "      Not AI       0.90      0.93      0.91       445\n",
      "          AI       0.20      0.15      0.17        55\n",
      "\n",
      "    accuracy                           0.84       500\n",
      "   macro avg       0.55      0.54      0.54       500\n",
      "weighted avg       0.82      0.84      0.83       500\n",
      "\n"
     ]
    }
   ],
   "source": [
    "INSTRUCTIONS = \"For each of the following examples, output Yes if the abstract is related to Artificial Intelligence(AI) else No\"\n",
    "train_dev_accuracy(training_examples,train_examples,dev_examples,INSTRUCTIONS)"
   ]
  },
  {
   "cell_type": "markdown",
   "id": "c8759142",
   "metadata": {},
   "source": [
    "#### Best output so far but still classification biased toward False value"
   ]
  },
  {
   "cell_type": "markdown",
   "id": "837f366c",
   "metadata": {},
   "source": [
    "## Classification using the title only"
   ]
  },
  {
   "cell_type": "code",
   "execution_count": 36,
   "id": "d01e4e9a",
   "metadata": {},
   "outputs": [],
   "source": [
    "def render_example(example):\n",
    "    title = example[\"text\"].split(\".\")[0].strip()\n",
    "    return f\"\"\"Title: {title}\n",
    "AI-relevant: {\"True\" if example[\"label\"] == \"True\" else \"False\"}\"\"\""
   ]
  },
  {
   "cell_type": "code",
   "execution_count": 37,
   "id": "3f260dc3",
   "metadata": {},
   "outputs": [],
   "source": [
    "def render_end_example(example):\n",
    "    title = example[\"text\"].split(\".\")[0].strip()\n",
    "    return f\"\"\"Title: {title}\n",
    "AI-relevant:\"\"\""
   ]
  },
  {
   "cell_type": "code",
   "execution_count": 38,
   "id": "cb1661be",
   "metadata": {},
   "outputs": [],
   "source": [
    "training_examples = []\n",
    "for i in range(10):\n",
    "    if torch.randint(2,(1,)):\n",
    "        training_examples.append(pos_examples[i])\n",
    "        training_examples.append(neg_examples[i])\n",
    "    else:\n",
    "        training_examples.append(neg_examples[i])\n",
    "        training_examples.append(pos_examples[i])"
   ]
  },
  {
   "cell_type": "code",
   "execution_count": 39,
   "id": "5c5428d1",
   "metadata": {},
   "outputs": [
    {
     "name": "stderr",
     "output_type": "stream",
     "text": [
      "\r",
      "  0%|                                                                                          | 0/500 [00:00<?, ?it/s]"
     ]
    },
    {
     "name": "stdout",
     "output_type": "stream",
     "text": [
      "-------------Train Set-------------\n"
     ]
    },
    {
     "name": "stderr",
     "output_type": "stream",
     "text": [
      "100%|████████████████████████████████████████████████████████████████████████████████| 500/500 [02:07<00:00,  3.93it/s]\n"
     ]
    },
    {
     "data": {
      "image/png": "[encoded data removed]",
      "text/plain": [
       "<Figure size 432x288 with 2 Axes>"
      ]
     },
     "metadata": {
      "needs_background": "light"
     },
     "output_type": "display_data"
    },
    {
     "name": "stderr",
     "output_type": "stream",
     "text": [
      "\r",
      "  0%|                                                                                          | 0/500 [00:00<?, ?it/s]"
     ]
    },
    {
     "name": "stdout",
     "output_type": "stream",
     "text": [
      "Train Set accuracy = tensor(0.9320)\n",
      "              precision    recall  f1-score   support\n",
      "\n",
      "      Not AI       0.93      1.00      0.96       457\n",
      "          AI       1.00      0.21      0.35        43\n",
      "\n",
      "    accuracy                           0.93       500\n",
      "   macro avg       0.97      0.60      0.66       500\n",
      "weighted avg       0.94      0.93      0.91       500\n",
      "\n"
     ]
    },
    {
     "name": "stderr",
     "output_type": "stream",
     "text": [
      "100%|████████████████████████████████████████████████████████████████████████████████| 500/500 [02:09<00:00,  3.86it/s]\n"
     ]
    },
    {
     "data": {
      "image/png": "[encoded data removed]",
      "text/plain": [
       "<Figure size 432x288 with 2 Axes>"
      ]
     },
     "metadata": {
      "needs_background": "light"
     },
     "output_type": "display_data"
    },
    {
     "name": "stdout",
     "output_type": "stream",
     "text": [
      "-------------Dev Set-------------\n",
      "Dev Set accuracy = tensor(0.8900)\n",
      "              precision    recall  f1-score   support\n",
      "\n",
      "      Not AI       0.89      1.00      0.94       445\n",
      "          AI       0.00      0.00      0.00        55\n",
      "\n",
      "    accuracy                           0.89       500\n",
      "   macro avg       0.45      0.50      0.47       500\n",
      "weighted avg       0.79      0.89      0.84       500\n",
      "\n"
     ]
    }
   ],
   "source": [
    "INSTRUCTIONS = \"For each of the following examples, output Yes if the title is related to Artificial Intelligence(AI) else No\"\n",
    "train_dev_accuracy(training_examples,train_examples,dev_examples,INSTRUCTIONS)"
   ]
  },
  {
   "cell_type": "markdown",
   "id": "7c663d93",
   "metadata": {},
   "source": [
    "#### Using just the titles did not help. Abstract must be taken into account"
   ]
  },
  {
   "cell_type": "markdown",
   "id": "cea9d959",
   "metadata": {},
   "source": [
    "### References\n",
    "####  https://arxiv.org/abs/2005.14165\n",
    "#### https://huggingface.co/docs/transformers/model_doc/gpt2"
   ]
  },
  {
   "cell_type": "code",
   "execution_count": null,
   "id": "4c153c10",
   "metadata": {},
   "outputs": [],
   "source": []
  }
 ],
 "metadata": {
  "kernelspec": {
   "display_name": "Python 3",
   "language": "python",
   "name": "python3"
  },
  "language_info": {
   "codemirror_mode": {
    "name": "ipython",
    "version": 3
   },
   "file_extension": ".py",
   "mimetype": "text/x-python",
   "name": "python",
   "nbconvert_exporter": "python",
   "pygments_lexer": "ipython3",
   "version": "3.8.7"
  }
 },
 "nbformat": 4,
 "nbformat_minor": 5
}
